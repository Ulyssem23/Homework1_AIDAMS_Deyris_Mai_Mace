{
 "cells": [
  {
   "cell_type": "markdown",
   "metadata": {},
   "source": [
    "## Econometrics - BSc AIDAMS\n",
    "\n",
    "Prof. Roberto Renò - ESSEC Business School \n",
    "\n",
    "## Homework 1"
   ]
  },
  {
   "cell_type": "code",
   "execution_count": 461,
   "metadata": {},
   "outputs": [],
   "source": [
    "import os\n",
    "import sys\n",
    "\n",
    "import numpy as np\n",
    "import pandas as pd\n",
    "from mizani.formatters import percent_format\n",
    "from plotnine import *\n",
    "import matplotlib.pyplot as plt\n",
    "\n",
    "# Current script folder\n",
    "current_path = os.getcwd()\n",
    "dirname = current_path.split(\"da_case_studies\")[0]\n",
    "\n",
    "# location folders\n",
    "data_in = dirname + \"da_data_repo/wms-management-survey/clean/\"\n",
    "data_out = dirname + \"da_case_studies/ch04-management-firm-size/\"\n",
    "output = dirname + \"da_case_studies/ch04-management-firm-size/output/\"\n",
    "func = dirname + \"da_case_studies/ch00-tech-prep/\"\n",
    "sys.path.append(func)\n",
    "# Current script folder\n",
    "current_path = os.getcwd()\n",
    "dirname = current_path.split(\"da_case_studies\")[0]\n",
    "\n",
    "# location folders (double check you have this on your pc)\n",
    "data_in = dirname + \"/Data/\"\n",
    "data_out = dirname + \"/Data/\"\n",
    "output = dirname + \"/output/\"\n",
    "func = dirname + \"/Settings/\"\n",
    "sys.path.append(func)\n",
    "\n",
    "# Import the prewritten helper functions\n",
    "#from py_helper_functions import *\n",
    "import warnings\n",
    "\n",
    "warnings.filterwarnings(\"ignore\")"
   ]
  },
  {
   "cell_type": "code",
   "execution_count": 462,
   "metadata": {},
   "outputs": [],
   "source": [
    "# Import data from your favourite location\n",
    "df = pd.read_csv(data_in + \"wms_da_textbook.csv\")"
   ]
  },
  {
   "cell_type": "code",
   "execution_count": 463,
   "metadata": {},
   "outputs": [
    {
     "data": {
      "text/plain": [
       "array(['United States', 'Germany', 'France', 'Great Britain', 'Greece',\n",
       "       'Italy', 'Portugal'], dtype=object)"
      ]
     },
     "execution_count": 463,
     "metadata": {},
     "output_type": "execute_result"
    }
   ],
   "source": [
    "df.loc[lambda x: (x[\"wave\"] == 2014)].country.unique()"
   ]
  },
  {
   "cell_type": "code",
   "execution_count": 464,
   "metadata": {},
   "outputs": [],
   "source": [
    "# Sample selection for your homework (part A and B)\n",
    "df1 = df.loc[\n",
    "    lambda x: (x[\"country\"] == \"France\")\n",
    "    & (x[\"wave\"] == 2014)\n",
    "]"
   ]
  },
  {
   "cell_type": "code",
   "execution_count": 465,
   "metadata": {},
   "outputs": [
    {
     "data": {
      "text/html": [
       "<div>\n",
       "<style scoped>\n",
       "    .dataframe tbody tr th:only-of-type {\n",
       "        vertical-align: middle;\n",
       "    }\n",
       "\n",
       "    .dataframe tbody tr th {\n",
       "        vertical-align: top;\n",
       "    }\n",
       "\n",
       "    .dataframe thead th {\n",
       "        text-align: right;\n",
       "    }\n",
       "</style>\n",
       "<table border=\"1\" class=\"dataframe\">\n",
       "  <thead>\n",
       "    <tr style=\"text-align: right;\">\n",
       "      <th></th>\n",
       "      <th>firmid</th>\n",
       "      <th>wave</th>\n",
       "      <th>sic</th>\n",
       "      <th>management</th>\n",
       "      <th>operations</th>\n",
       "      <th>monitor</th>\n",
       "      <th>target</th>\n",
       "      <th>people</th>\n",
       "      <th>lean1</th>\n",
       "      <th>lean2</th>\n",
       "      <th>...</th>\n",
       "      <th>aa_196</th>\n",
       "      <th>aa_197</th>\n",
       "      <th>aa_198</th>\n",
       "      <th>aa_199</th>\n",
       "      <th>aa_200</th>\n",
       "      <th>aa_201</th>\n",
       "      <th>aa_202</th>\n",
       "      <th>aa_203</th>\n",
       "      <th>aa_204</th>\n",
       "      <th>aa_205</th>\n",
       "    </tr>\n",
       "  </thead>\n",
       "  <tbody>\n",
       "    <tr>\n",
       "      <th>count</th>\n",
       "      <td>141.000000</td>\n",
       "      <td>141.0</td>\n",
       "      <td>141.000000</td>\n",
       "      <td>141.000000</td>\n",
       "      <td>141.000000</td>\n",
       "      <td>141.000000</td>\n",
       "      <td>141.000000</td>\n",
       "      <td>141.000000</td>\n",
       "      <td>141.000000</td>\n",
       "      <td>141.000000</td>\n",
       "      <td>...</td>\n",
       "      <td>141.0</td>\n",
       "      <td>141.0</td>\n",
       "      <td>141.0</td>\n",
       "      <td>141.0</td>\n",
       "      <td>141.0</td>\n",
       "      <td>141.0</td>\n",
       "      <td>141.0</td>\n",
       "      <td>141.0</td>\n",
       "      <td>141.0</td>\n",
       "      <td>141.0</td>\n",
       "    </tr>\n",
       "    <tr>\n",
       "      <th>mean</th>\n",
       "      <td>4652.574468</td>\n",
       "      <td>2014.0</td>\n",
       "      <td>30.524823</td>\n",
       "      <td>2.996740</td>\n",
       "      <td>2.957447</td>\n",
       "      <td>3.509220</td>\n",
       "      <td>2.941489</td>\n",
       "      <td>2.627660</td>\n",
       "      <td>2.921986</td>\n",
       "      <td>2.992908</td>\n",
       "      <td>...</td>\n",
       "      <td>0.0</td>\n",
       "      <td>0.0</td>\n",
       "      <td>0.0</td>\n",
       "      <td>0.0</td>\n",
       "      <td>0.0</td>\n",
       "      <td>0.0</td>\n",
       "      <td>0.0</td>\n",
       "      <td>0.0</td>\n",
       "      <td>0.0</td>\n",
       "      <td>0.0</td>\n",
       "    </tr>\n",
       "    <tr>\n",
       "      <th>std</th>\n",
       "      <td>128.837951</td>\n",
       "      <td>0.0</td>\n",
       "      <td>5.255720</td>\n",
       "      <td>0.521241</td>\n",
       "      <td>0.864972</td>\n",
       "      <td>0.693428</td>\n",
       "      <td>0.586392</td>\n",
       "      <td>0.523131</td>\n",
       "      <td>0.971530</td>\n",
       "      <td>0.882338</td>\n",
       "      <td>...</td>\n",
       "      <td>0.0</td>\n",
       "      <td>0.0</td>\n",
       "      <td>0.0</td>\n",
       "      <td>0.0</td>\n",
       "      <td>0.0</td>\n",
       "      <td>0.0</td>\n",
       "      <td>0.0</td>\n",
       "      <td>0.0</td>\n",
       "      <td>0.0</td>\n",
       "      <td>0.0</td>\n",
       "    </tr>\n",
       "    <tr>\n",
       "      <th>min</th>\n",
       "      <td>4445.000000</td>\n",
       "      <td>2014.0</td>\n",
       "      <td>20.000000</td>\n",
       "      <td>1.722222</td>\n",
       "      <td>1.000000</td>\n",
       "      <td>1.800000</td>\n",
       "      <td>1.600000</td>\n",
       "      <td>1.666667</td>\n",
       "      <td>1.000000</td>\n",
       "      <td>1.000000</td>\n",
       "      <td>...</td>\n",
       "      <td>0.0</td>\n",
       "      <td>0.0</td>\n",
       "      <td>0.0</td>\n",
       "      <td>0.0</td>\n",
       "      <td>0.0</td>\n",
       "      <td>0.0</td>\n",
       "      <td>0.0</td>\n",
       "      <td>0.0</td>\n",
       "      <td>0.0</td>\n",
       "      <td>0.0</td>\n",
       "    </tr>\n",
       "    <tr>\n",
       "      <th>25%</th>\n",
       "      <td>4543.000000</td>\n",
       "      <td>2014.0</td>\n",
       "      <td>26.000000</td>\n",
       "      <td>2.611111</td>\n",
       "      <td>2.500000</td>\n",
       "      <td>3.000000</td>\n",
       "      <td>2.400000</td>\n",
       "      <td>2.333333</td>\n",
       "      <td>2.000000</td>\n",
       "      <td>2.000000</td>\n",
       "      <td>...</td>\n",
       "      <td>0.0</td>\n",
       "      <td>0.0</td>\n",
       "      <td>0.0</td>\n",
       "      <td>0.0</td>\n",
       "      <td>0.0</td>\n",
       "      <td>0.0</td>\n",
       "      <td>0.0</td>\n",
       "      <td>0.0</td>\n",
       "      <td>0.0</td>\n",
       "      <td>0.0</td>\n",
       "    </tr>\n",
       "    <tr>\n",
       "      <th>50%</th>\n",
       "      <td>4653.000000</td>\n",
       "      <td>2014.0</td>\n",
       "      <td>32.000000</td>\n",
       "      <td>3.055556</td>\n",
       "      <td>3.000000</td>\n",
       "      <td>3.400000</td>\n",
       "      <td>3.000000</td>\n",
       "      <td>2.500000</td>\n",
       "      <td>3.000000</td>\n",
       "      <td>3.000000</td>\n",
       "      <td>...</td>\n",
       "      <td>0.0</td>\n",
       "      <td>0.0</td>\n",
       "      <td>0.0</td>\n",
       "      <td>0.0</td>\n",
       "      <td>0.0</td>\n",
       "      <td>0.0</td>\n",
       "      <td>0.0</td>\n",
       "      <td>0.0</td>\n",
       "      <td>0.0</td>\n",
       "      <td>0.0</td>\n",
       "    </tr>\n",
       "    <tr>\n",
       "      <th>75%</th>\n",
       "      <td>4739.000000</td>\n",
       "      <td>2014.0</td>\n",
       "      <td>35.000000</td>\n",
       "      <td>3.388889</td>\n",
       "      <td>3.500000</td>\n",
       "      <td>4.000000</td>\n",
       "      <td>3.200000</td>\n",
       "      <td>3.000000</td>\n",
       "      <td>4.000000</td>\n",
       "      <td>3.000000</td>\n",
       "      <td>...</td>\n",
       "      <td>0.0</td>\n",
       "      <td>0.0</td>\n",
       "      <td>0.0</td>\n",
       "      <td>0.0</td>\n",
       "      <td>0.0</td>\n",
       "      <td>0.0</td>\n",
       "      <td>0.0</td>\n",
       "      <td>0.0</td>\n",
       "      <td>0.0</td>\n",
       "      <td>0.0</td>\n",
       "    </tr>\n",
       "    <tr>\n",
       "      <th>max</th>\n",
       "      <td>4923.000000</td>\n",
       "      <td>2014.0</td>\n",
       "      <td>39.000000</td>\n",
       "      <td>4.222222</td>\n",
       "      <td>5.000000</td>\n",
       "      <td>5.000000</td>\n",
       "      <td>4.400000</td>\n",
       "      <td>4.166667</td>\n",
       "      <td>5.000000</td>\n",
       "      <td>5.000000</td>\n",
       "      <td>...</td>\n",
       "      <td>0.0</td>\n",
       "      <td>0.0</td>\n",
       "      <td>0.0</td>\n",
       "      <td>0.0</td>\n",
       "      <td>0.0</td>\n",
       "      <td>0.0</td>\n",
       "      <td>0.0</td>\n",
       "      <td>0.0</td>\n",
       "      <td>0.0</td>\n",
       "      <td>0.0</td>\n",
       "    </tr>\n",
       "  </tbody>\n",
       "</table>\n",
       "<p>8 rows × 240 columns</p>\n",
       "</div>"
      ],
      "text/plain": [
       "            firmid    wave         sic  management  operations     monitor  \\\n",
       "count   141.000000   141.0  141.000000  141.000000  141.000000  141.000000   \n",
       "mean   4652.574468  2014.0   30.524823    2.996740    2.957447    3.509220   \n",
       "std     128.837951     0.0    5.255720    0.521241    0.864972    0.693428   \n",
       "min    4445.000000  2014.0   20.000000    1.722222    1.000000    1.800000   \n",
       "25%    4543.000000  2014.0   26.000000    2.611111    2.500000    3.000000   \n",
       "50%    4653.000000  2014.0   32.000000    3.055556    3.000000    3.400000   \n",
       "75%    4739.000000  2014.0   35.000000    3.388889    3.500000    4.000000   \n",
       "max    4923.000000  2014.0   39.000000    4.222222    5.000000    5.000000   \n",
       "\n",
       "           target      people       lean1       lean2  ...  aa_196  aa_197  \\\n",
       "count  141.000000  141.000000  141.000000  141.000000  ...   141.0   141.0   \n",
       "mean     2.941489    2.627660    2.921986    2.992908  ...     0.0     0.0   \n",
       "std      0.586392    0.523131    0.971530    0.882338  ...     0.0     0.0   \n",
       "min      1.600000    1.666667    1.000000    1.000000  ...     0.0     0.0   \n",
       "25%      2.400000    2.333333    2.000000    2.000000  ...     0.0     0.0   \n",
       "50%      3.000000    2.500000    3.000000    3.000000  ...     0.0     0.0   \n",
       "75%      3.200000    3.000000    4.000000    3.000000  ...     0.0     0.0   \n",
       "max      4.400000    4.166667    5.000000    5.000000  ...     0.0     0.0   \n",
       "\n",
       "       aa_198  aa_199  aa_200  aa_201  aa_202  aa_203  aa_204  aa_205  \n",
       "count   141.0   141.0   141.0   141.0   141.0   141.0   141.0   141.0  \n",
       "mean      0.0     0.0     0.0     0.0     0.0     0.0     0.0     0.0  \n",
       "std       0.0     0.0     0.0     0.0     0.0     0.0     0.0     0.0  \n",
       "min       0.0     0.0     0.0     0.0     0.0     0.0     0.0     0.0  \n",
       "25%       0.0     0.0     0.0     0.0     0.0     0.0     0.0     0.0  \n",
       "50%       0.0     0.0     0.0     0.0     0.0     0.0     0.0     0.0  \n",
       "75%       0.0     0.0     0.0     0.0     0.0     0.0     0.0     0.0  \n",
       "max       0.0     0.0     0.0     0.0     0.0     0.0     0.0     0.0  \n",
       "\n",
       "[8 rows x 240 columns]"
      ]
     },
     "execution_count": 465,
     "metadata": {},
     "output_type": "execute_result"
    }
   ],
   "source": [
    "df1.describe()"
   ]
  },
  {
   "cell_type": "code",
   "execution_count": 466,
   "metadata": {},
   "outputs": [
    {
     "data": {
      "text/plain": [
       "['firmid',\n",
       " 'wave',\n",
       " 'cty',\n",
       " 'country',\n",
       " 'sic',\n",
       " 'management',\n",
       " 'operations',\n",
       " 'monitor',\n",
       " 'target',\n",
       " 'people',\n",
       " 'lean1',\n",
       " 'lean2',\n",
       " 'perf1',\n",
       " 'perf2',\n",
       " 'perf3',\n",
       " 'perf4',\n",
       " 'perf5',\n",
       " 'perf6',\n",
       " 'perf7',\n",
       " 'perf8',\n",
       " 'perf9',\n",
       " 'perf10',\n",
       " 'talent1',\n",
       " 'talent2',\n",
       " 'talent3',\n",
       " 'talent4',\n",
       " 'talent5',\n",
       " 'talent6',\n",
       " 'emp_firm',\n",
       " 'firmage',\n",
       " 'ownership',\n",
       " 'mne_yn',\n",
       " 'mne_cty',\n",
       " 'competition',\n",
       " 'export',\n",
       " 'degree_m',\n",
       " 'degree_nm',\n",
       " 'degree_t',\n",
       " 'i_seniority',\n",
       " 'reliability',\n",
       " 'aa_1',\n",
       " 'aa_2',\n",
       " 'aa_3',\n",
       " 'aa_4',\n",
       " 'aa_5',\n",
       " 'aa_6',\n",
       " 'aa_7',\n",
       " 'aa_8',\n",
       " 'aa_9',\n",
       " 'aa_10',\n",
       " 'aa_11',\n",
       " 'aa_12',\n",
       " 'aa_13',\n",
       " 'aa_14',\n",
       " 'aa_15',\n",
       " 'aa_16',\n",
       " 'aa_17',\n",
       " 'aa_18',\n",
       " 'aa_19',\n",
       " 'aa_20',\n",
       " 'aa_21',\n",
       " 'aa_22',\n",
       " 'aa_23',\n",
       " 'aa_24',\n",
       " 'aa_25',\n",
       " 'aa_26',\n",
       " 'aa_27',\n",
       " 'aa_28',\n",
       " 'aa_29',\n",
       " 'aa_30',\n",
       " 'aa_31',\n",
       " 'aa_32',\n",
       " 'aa_33',\n",
       " 'aa_34',\n",
       " 'aa_35',\n",
       " 'aa_36',\n",
       " 'aa_37',\n",
       " 'aa_38',\n",
       " 'aa_39',\n",
       " 'aa_40',\n",
       " 'aa_41',\n",
       " 'aa_42',\n",
       " 'aa_43',\n",
       " 'aa_44',\n",
       " 'aa_45',\n",
       " 'aa_46',\n",
       " 'aa_47',\n",
       " 'aa_48',\n",
       " 'aa_49',\n",
       " 'aa_50',\n",
       " 'aa_51',\n",
       " 'aa_52',\n",
       " 'aa_53',\n",
       " 'aa_54',\n",
       " 'aa_55',\n",
       " 'aa_56',\n",
       " 'aa_57',\n",
       " 'aa_58',\n",
       " 'aa_59',\n",
       " 'aa_60',\n",
       " 'aa_61',\n",
       " 'aa_62',\n",
       " 'aa_63',\n",
       " 'aa_64',\n",
       " 'aa_65',\n",
       " 'aa_66',\n",
       " 'aa_67',\n",
       " 'aa_68',\n",
       " 'aa_69',\n",
       " 'aa_70',\n",
       " 'aa_71',\n",
       " 'aa_72',\n",
       " 'aa_73',\n",
       " 'aa_74',\n",
       " 'aa_75',\n",
       " 'aa_76',\n",
       " 'aa_77',\n",
       " 'aa_78',\n",
       " 'aa_79',\n",
       " 'aa_80',\n",
       " 'aa_81',\n",
       " 'aa_82',\n",
       " 'aa_83',\n",
       " 'aa_84',\n",
       " 'aa_85',\n",
       " 'aa_86',\n",
       " 'aa_87',\n",
       " 'aa_88',\n",
       " 'aa_89',\n",
       " 'aa_90',\n",
       " 'aa_91',\n",
       " 'aa_92',\n",
       " 'aa_93',\n",
       " 'aa_94',\n",
       " 'aa_95',\n",
       " 'aa_96',\n",
       " 'aa_97',\n",
       " 'aa_98',\n",
       " 'aa_99',\n",
       " 'aa_100',\n",
       " 'aa_101',\n",
       " 'aa_102',\n",
       " 'aa_103',\n",
       " 'aa_104',\n",
       " 'aa_105',\n",
       " 'aa_106',\n",
       " 'aa_107',\n",
       " 'aa_108',\n",
       " 'aa_109',\n",
       " 'aa_110',\n",
       " 'aa_111',\n",
       " 'aa_112',\n",
       " 'aa_113',\n",
       " 'aa_114',\n",
       " 'aa_115',\n",
       " 'aa_116',\n",
       " 'aa_117',\n",
       " 'aa_118',\n",
       " 'aa_119',\n",
       " 'aa_120',\n",
       " 'aa_121',\n",
       " 'aa_122',\n",
       " 'aa_123',\n",
       " 'aa_124',\n",
       " 'aa_125',\n",
       " 'aa_126',\n",
       " 'aa_127',\n",
       " 'aa_128',\n",
       " 'aa_129',\n",
       " 'aa_130',\n",
       " 'aa_131',\n",
       " 'aa_132',\n",
       " 'aa_133',\n",
       " 'aa_134',\n",
       " 'aa_135',\n",
       " 'aa_136',\n",
       " 'aa_137',\n",
       " 'aa_138',\n",
       " 'aa_139',\n",
       " 'aa_140',\n",
       " 'aa_141',\n",
       " 'aa_142',\n",
       " 'aa_143',\n",
       " 'aa_144',\n",
       " 'aa_145',\n",
       " 'aa_146',\n",
       " 'aa_147',\n",
       " 'aa_148',\n",
       " 'aa_149',\n",
       " 'aa_150',\n",
       " 'aa_151',\n",
       " 'aa_152',\n",
       " 'aa_153',\n",
       " 'aa_154',\n",
       " 'aa_155',\n",
       " 'aa_156',\n",
       " 'aa_157',\n",
       " 'aa_158',\n",
       " 'aa_159',\n",
       " 'aa_160',\n",
       " 'aa_161',\n",
       " 'aa_162',\n",
       " 'aa_163',\n",
       " 'aa_164',\n",
       " 'aa_165',\n",
       " 'aa_166',\n",
       " 'aa_167',\n",
       " 'aa_168',\n",
       " 'aa_169',\n",
       " 'aa_170',\n",
       " 'aa_171',\n",
       " 'aa_172',\n",
       " 'aa_173',\n",
       " 'aa_174',\n",
       " 'aa_175',\n",
       " 'aa_176',\n",
       " 'aa_177',\n",
       " 'aa_178',\n",
       " 'aa_179',\n",
       " 'aa_180',\n",
       " 'aa_181',\n",
       " 'aa_182',\n",
       " 'aa_183',\n",
       " 'aa_184',\n",
       " 'aa_185',\n",
       " 'aa_186',\n",
       " 'aa_187',\n",
       " 'aa_188',\n",
       " 'aa_189',\n",
       " 'aa_190',\n",
       " 'aa_191',\n",
       " 'aa_192',\n",
       " 'aa_193',\n",
       " 'aa_194',\n",
       " 'aa_195',\n",
       " 'aa_196',\n",
       " 'aa_197',\n",
       " 'aa_198',\n",
       " 'aa_199',\n",
       " 'aa_200',\n",
       " 'aa_201',\n",
       " 'aa_202',\n",
       " 'aa_203',\n",
       " 'aa_204',\n",
       " 'aa_205']"
      ]
     },
     "execution_count": 466,
     "metadata": {},
     "output_type": "execute_result"
    }
   ],
   "source": [
    "list(df1)"
   ]
  },
  {
   "cell_type": "markdown",
   "metadata": {},
   "source": [
    "## Management Quality and Firm Performance\n",
    "\n",
    "The data for this case study is from a large-scale research project aiming to fill this gap. The World Management Survey (WMS; http://worldmanagementsurvey.org) collects data on management practices from many firms and other organizations across various industries and countries. This is a major international survey that combines a traditional survey methodology with other methods; see Sections 1.5 and 1.6 below on data collection methods.\n",
    "\n",
    "The most important variables in the WMS are the management practice “scores.”. Eighteen such scores are in the data, each measuring the quality of management practices in an important area, such as tracking and reviewing performance, the time horizon and breadth of targets, or attracting and retaining human capital. The scores range from 1 through 5, with 1 indicating worst practice and 5 indicating best practice. Importantly, this is the intended content of the variable. The actual content is determined by how it is measured: what information is used to construct the score, where that information comes from, how the scores are constructed from that information, whether there is room for error in that process, and so on.\n",
    "\n",
    "## Questions \n",
    "\n",
    "Part A\n",
    "\n",
    "We focus on France, 2014 data (parts A-B-C). Management scores are in the column \"management\". The number of employees is in the column \"emp_firm\".\n",
    "\n",
    "1. Display an histogram of the \"management\" scores. Which theoretical distribution could fit?\n",
    "2. Compute the sample average and sample standard deviation of the \"management\" score.\n",
    "3. Display an histogram of the \"number of employees\". Which theoretical distribution would fit?\n",
    "4. Find a transformation of the variable \"number of employees\" such that its distribution looks like a normal distribution. (hint: the closer your distribution to a Normal distribution, the closer its kurtosis to 3)\n",
    "\n",
    "Part B: finding associations\n",
    "\n",
    "We now measure management quality by the \"management\" variable and firm size by the \"emp_firm\" variable.\n",
    "\n",
    "5. Divide the firm size into three quantiles with roughly the same number of observations in the three quantiles. Call these three sets small, intermediate and big firms respectively.\n",
    "6. Compute the average management score for small, intermediate and big firms.\n",
    "7. Test if there is a significant difference in management score between big and small firms.\n",
    "8. Create a scatter plot between firm size and management score.\n",
    "9. Create a scatter plot between log(firm size) and management score.\n",
    "10. Compute the correlations between the variables at point 8 and 9. Comment.\n",
    "\n",
    "\n",
    "Part C: simple regression\n",
    "\n",
    "11. Consider a linear regression based on the model explaining management score by firm size (point 8). Estimate the linear model using OLS.\n",
    "12. Repeat the estimate in point 11 now in a model in which management score is explained by log(firm size) (point 9).\n",
    "13. Compare the R^2 of the two regressions. Explain.\n",
    "\n",
    "Part D: choose your country/year\n",
    "\n",
    "14. Repeat the analysis of part C with your favourite country in the most recent year at your disposal. Please make sure you have at least 100 data entries. Are your results consistent with France in 2014? It is ok to expand on this part as much as you want.\n",
    "\n",
    "\n"
   ]
  },
  {
   "cell_type": "markdown",
   "metadata": {},
   "source": [
    "# Part A"
   ]
  },
  {
   "cell_type": "markdown",
   "metadata": {},
   "source": [
    "## 1. Display an histogram of the \"management\" scores. Which theoretical distribution could fit?"
   ]
  },
  {
   "cell_type": "code",
   "execution_count": 467,
   "metadata": {},
   "outputs": [
    {
     "data": {
      "image/png": "[encoded data removed]",
      "text/plain": [
       "<Figure size 640x480 with 1 Axes>"
      ]
     },
     "metadata": {},
     "output_type": "display_data"
    }
   ],
   "source": [
    "# Extract 'management' scores\n",
    "management_scores = df1['management']\n",
    "\n",
    "# Plot the histogram of \"management\" scores\n",
    "plt.hist(management_scores, bins=20, density=True, alpha=1, color='#0062ff',edgecolor = '#6200ff')\n",
    "plt.title('Histogram of management scores of France in 2014')\n",
    "plt.xlabel('management scores')\n",
    "plt.ylabel('density')\n",
    "plt.show()\n"
   ]
  },
  {
   "cell_type": "markdown",
   "metadata": {},
   "source": [
    "# 2. Compute the sample average and sample standard deviation of the \"management\" score."
   ]
  },
  {
   "cell_type": "code",
   "execution_count": 468,
   "metadata": {},
   "outputs": [
    {
     "name": "stdout",
     "output_type": "stream",
     "text": [
      "Sample Mean : 2.99673955829431\n",
      "Sample Standard Deviation : 0.5212406218028387\n"
     ]
    }
   ],
   "source": [
    "# sample mean\n",
    "mean_management = np.mean(df1['management'])\n",
    "\n",
    "# sample standard deviation\n",
    "std_management = np.std(df1['management'], ddof=1)  # ddof=1 for sample standard deviation\n",
    "\n",
    "print(\"Sample Mean :\", mean_management)\n",
    "print(\"Sample Standard Deviation :\", std_management)"
   ]
  },
  {
   "cell_type": "markdown",
   "metadata": {},
   "source": [
    "# 3. Display an histogram of the \"number of employees\". Which theoretical distribution would fit?"
   ]
  },
  {
   "cell_type": "code",
   "execution_count": 469,
   "metadata": {},
   "outputs": [
    {
     "data": {
      "image/png": "[encoded data removed]",
      "text/plain": [
       "<Figure size 640x480 with 1 Axes>"
      ]
     },
     "metadata": {},
     "output_type": "display_data"
    }
   ],
   "source": [
    "# Extract the \"number of employees\" column\n",
    "num_employees = df1['emp_firm']\n",
    "\n",
    "# Plot the histogram\n",
    "plt.hist(num_employees, bins=20, density=True, alpha=0.7,color='#03c6fc')\n",
    "plt.title('Histogram of number of employees')\n",
    "plt.xlabel('number of employees')\n",
    "plt.ylabel('density')\n",
    "plt.show()\n"
   ]
  },
  {
   "cell_type": "markdown",
   "metadata": {},
   "source": [
    "# Based on the histogram, the Log-Normal distribution is the best theoretical fit from the course.\n",
    "\n",
    "Justification:\n",
    "1. The data is strictly positive as the number of employees cannot be negative\n",
    "2. The histogram is highly right-skewed, with a concentration of small values and a long tail, which is characteristic of a log-normal distribution.\n",
    "3. In econometrics, firm sizes and similar economic variables (e.g., income, wealth) often follow a log-normal distribution due to multiplicative growth processes.\n",
    "- If the log-transformed data follows a normal distribution, then the original data follows a log-normal distribution."
   ]
  },
  {
   "cell_type": "markdown",
   "metadata": {},
   "source": [
    "# 4. Find a transformation of the variable \"number of employees\" such that its distribution looks like a normal distribution. (hint: the closer your distribution to a Normal distribution, the closer its kurtosis to 3)"
   ]
  },
  {
   "cell_type": "code",
   "execution_count": 470,
   "metadata": {},
   "outputs": [
    {
     "name": "stdout",
     "output_type": "stream",
     "text": [
      "Kurtosis of Log-Transformed of emp_firm (number of employees): -0.52\n"
     ]
    },
    {
     "data": {
      "image/png": "[encoded data removed]",
      "text/plain": [
       "<Figure size 640x480 with 1 Axes>"
      ]
     },
     "execution_count": 470,
     "metadata": {},
     "output_type": "execute_result"
    }
   ],
   "source": [
    "\n",
    "# Apply Log Transformation (Avoid log(0) issue by adding 1)\n",
    "df1['log_employees'] = np.log(df1['emp_firm'] +1)\n",
    "\n",
    "# Compute kurtosis of log-transformed data\n",
    "kurtosis_log = df1['log_employees'].kurtosis()\n",
    "\n",
    "# Print kurtosis result\n",
    "print(f\"Kurtosis of Log-Transformed of emp_firm (number of employees): {kurtosis_log:.2f}\")\n",
    "\n",
    "# Plot histogram using plotnine (ggplot-style visualization)\n",
    "plot = (\n",
    "    ggplot(df1, aes(x='log_employees')) +\n",
    "    geom_histogram(binwidth=0.4, fill='blue', alpha=0.7, color='black') +\n",
    "    labs(title=f\"Histogram of Log-Transformed 'Number of Employees'\\nKurtosis: {kurtosis_log:.2f}\" ,\n",
    "         x=\"Log(Number of Employees)\" ,\n",
    "         y=\"Density\")+\n",
    "    theme_minimal()\n",
    ")\n",
    "\n",
    "# Show plot\n",
    "plot.draw()\n",
    "\n"
   ]
  },
  {
   "cell_type": "markdown",
   "metadata": {},
   "source": [
    "## Part B: finding associations\n",
    "\n",
    "We now measure management quality by the \"management\" variable and firm size by the \"emp_firm\" variable.\n",
    "\n",
    "# 5. Divide the firm size into three quantiles with roughly the same number of observations in the three quantiles. Call these three sets small, intermediate and big firms respectively."
   ]
  },
  {
   "cell_type": "code",
   "execution_count": 471,
   "metadata": {},
   "outputs": [
    {
     "name": "stdout",
     "output_type": "stream",
     "text": [
      "      emp_firm firm_size_category\n",
      "5957     120.0              small\n",
      "5959      71.0              small\n",
      "5962     100.0              small\n",
      "5964      54.0              small\n",
      "5968    1300.0                big\n",
      "firm_size_category\n",
      "small           47\n",
      "intermediate    47\n",
      "big             47\n",
      "Name: count, dtype: int64\n"
     ]
    }
   ],
   "source": [
    "\n",
    "# Create quantile-based firm size categories\n",
    "df1['firm_size_category'] = pd.qcut( df1['emp_firm'], q=3, labels=['small','intermediate', 'big'])\n",
    "\n",
    "# Display the first few rows to verify\n",
    "print( df1[['emp_firm', 'firm_size_category']].head() )\n",
    "\n",
    "# Count of firms in each category\n",
    "print( df1['firm_size_category'].value_counts())\n"
   ]
  },
  {
   "cell_type": "markdown",
   "metadata": {},
   "source": [
    "## 6. Compute the average management score for small, intermediate and big firms."
   ]
  },
  {
   "cell_type": "code",
   "execution_count": 472,
   "metadata": {},
   "outputs": [
    {
     "name": "stdout",
     "output_type": "stream",
     "text": [
      "     firm_size_category  management\n",
      "5957              small    3.500000\n",
      "5959              small    2.222222\n",
      "5962              small    2.888889\n",
      "5964              small    2.666667\n",
      "5968                big    3.777778\n",
      "...                 ...         ...\n",
      "6642       intermediate    2.944444\n",
      "6643                big    3.555556\n",
      "6661              small    3.888889\n",
      "6708                big    3.333333\n",
      "6711              small    2.722222\n",
      "\n",
      "[141 rows x 2 columns]\n",
      "firm_size_category\n",
      "small           47\n",
      "intermediate    47\n",
      "big             47\n",
      "Name: count, dtype: int64\n",
      "2.77556145952103\n",
      "2.9101655077427004\n",
      "3.3044917076192\n"
     ]
    }
   ],
   "source": [
    "# extract from df1 the management scores of three types of firms\n",
    "df2 = df1[['firm_size_category','management']]\n",
    "print(df2)\n",
    "print(df2['firm_size_category'].value_counts())\n",
    "\n",
    "small = df2['management'][df2['firm_size_category'] == 'small']\n",
    "\n",
    "avg_small = np.mean(small)\n",
    "print(avg_small)\n",
    "\n",
    "intermediate = df2['management'][df2['firm_size_category'] == 'intermediate']\n",
    "avg_inter = np.mean(intermediate)\n",
    "print(avg_inter)\n",
    "\n",
    "big = df2['management'][df2['firm_size_category'] == 'big']\n",
    "avg_big = np.mean(big)\n",
    "print(avg_big)"
   ]
  },
  {
   "cell_type": "markdown",
   "metadata": {},
   "source": [
    "## 7. Test if there is a significant difference in management score between big and small firms."
   ]
  },
  {
   "cell_type": "code",
   "execution_count": 473,
   "metadata": {},
   "outputs": [
    {
     "name": "stdout",
     "output_type": "stream",
     "text": [
      "sd small firms: 0.5331968572378436 sd big firms: 0.485172839600912'\n",
      "sd small firms: 2.77556145952103 sd big firms: 3.3044917076192'\n",
      "T-statistic: -5.0300754054464045\n",
      "P-value: 2.4432561295661127e-06\n"
     ]
    }
   ],
   "source": [
    "# H0: there is no significant difference\n",
    "# H1: there is a significant difference\n",
    "\n",
    "# sample standard deviation\n",
    "std_management_small = np.std(small, ddof=1)  # ddof=1 for sample standard deviation\n",
    "std_management_big = np.std(big, ddof=1)\n",
    "print(f\"sd small firms: {std_management_small} sd big firms: {std_management_big}'\")\n",
    "\n",
    "mean_management_small = np.mean(small) \n",
    "mean_management_big = np.mean(big)\n",
    "print(f\"sd small firms: {mean_management_small} sd big firms: {mean_management_big}'\")\n",
    "\n",
    "# we use a two sample tes test since we don't know about the population sd\n",
    "from scipy.stats import ttest_ind\n",
    "t_stat, p_value = ttest_ind(small, big, equal_var=False)\n",
    "\n",
    "print(f\"T-statistic: {t_stat}\")\n",
    "print(f\"P-value: {p_value}\")\n",
    "\n",
    "# we compare: critical_level=0.05 with p_value\n",
    "# critical_value < P_value --> therefore we accept H0: there is no significant difference"
   ]
  },
  {
   "cell_type": "markdown",
   "metadata": {},
   "source": [
    "## 8. Create a scatter plot between firm size and management score."
   ]
  },
  {
   "cell_type": "code",
   "execution_count": 474,
   "metadata": {},
   "outputs": [
    {
     "data": {
      "text/plain": [
       "Text(0, 0.5, 'firm size')"
      ]
     },
     "execution_count": 474,
     "metadata": {},
     "output_type": "execute_result"
    },
    {
     "data": {
      "image/png": "[encoded data removed]",
      "text/plain": [
       "<Figure size 640x480 with 1 Axes>"
      ]
     },
     "metadata": {},
     "output_type": "display_data"
    }
   ],
   "source": [
    "x= df1['management']\n",
    "y= df1['emp_firm']\n",
    "plt.scatter(x,y)\n",
    "plt.title('scatter plot: firm size vs. management score')\n",
    "plt.xlabel('management score')\n",
    "plt.ylabel('firm size')"
   ]
  },
  {
   "cell_type": "markdown",
   "metadata": {},
   "source": [
    "## 9. Create a scatter plot between log(firm size) and management score."
   ]
  },
  {
   "cell_type": "code",
   "execution_count": 475,
   "metadata": {},
   "outputs": [
    {
     "data": {
      "text/plain": [
       "Text(0, 0.5, 'firm size')"
      ]
     },
     "execution_count": 475,
     "metadata": {},
     "output_type": "execute_result"
    },
    {
     "data": {
      "image/png": "[encoded data removed]",
      "text/plain": [
       "<Figure size 640x480 with 1 Axes>"
      ]
     },
     "metadata": {},
     "output_type": "display_data"
    }
   ],
   "source": [
    "y_log= np.log(df1['emp_firm'])\n",
    "plt.scatter(x,y_log)\n",
    "plt.title('scatter plot: firm size vs. management score')\n",
    "plt.xlabel('management score')\n",
    "plt.ylabel('firm size')"
   ]
  },
  {
   "cell_type": "markdown",
   "metadata": {},
   "source": [
    "## 10. Compute the correlations between the variables at point 8 and 9. Comment."
   ]
  },
  {
   "cell_type": "code",
   "execution_count": 477,
   "metadata": {},
   "outputs": [
    {
     "name": "stdout",
     "output_type": "stream",
     "text": [
      "correlation betrween firm size and firm manegement score:\n",
      " [[1.        0.3898728]\n",
      " [0.3898728 1.       ]]\n",
      "log correlation betrween firm size and firm manegement score:\n",
      " [[1.         0.47440348]\n",
      " [0.47440348 1.        ]]\n"
     ]
    },
    {
     "data": {
      "text/plain": [
       "'\\nComment: we can observe and clearly see from the correlation coefficients given by the calculation that the latter diagram with log firm size has a stronger \\ncorrelation. Although both positive, the correlation coefficient between firm size and management score is 0.39, indicating a moderate positive relationship. \\nHowever, after applying a logarithmic transformation to firm size, the correlation increases to 0.47. This suggests that the relationship may be non-linear —\\nwith management scores rising more sharply for smaller firms and leveling off for larger ones. The log transformation helps capture this pattern by highlighting \\nthe diminishing returns effect as firms grow. This is related to the management and economic concept: economies of scale -- as firm grows to surpass a certain size, \\nits management efficiency starts to plateau and eventually reaches a maximum and decreases.\\n'"
      ]
     },
     "execution_count": 477,
     "metadata": {},
     "output_type": "execute_result"
    }
   ],
   "source": [
    "correlation = np.corrcoef(x, y)\n",
    "correlation_log = np.corrcoef(x, y_log)\n",
    "print(f'correlation betrween firm size and firm manegement score:\\n {correlation}')\n",
    "print(f'log correlation betrween firm size and firm manegement score:\\n {correlation_log}')\n",
    "\n",
    "'''\n",
    "Comment: we can observe and clearly see from the correlation coefficients given by the calculation that the latter diagram with log firm size has a stronger \n",
    "correlation. Although both positive, the correlation coefficient between firm size and management score is 0.39, indicating a moderate positive relationship. \n",
    "However, after applying a logarithmic transformation to firm size, the correlation increases to 0.47. This suggests that the relationship may be non-linear —\n",
    "with management scores rising more sharply for smaller firms and leveling off for larger ones. The log transformation helps capture this pattern by highlighting \n",
    "the diminishing returns effect as firms grow. This is related to the management and economic concept: economies of scale -- as firm grows to surpass a certain size, \n",
    "its management efficiency starts to plateau and eventually reaches a maximum and decreases.\n",
    "'''\n",
    "\n"
   ]
  },
  {
   "cell_type": "markdown",
   "metadata": {},
   "source": [
    "11. Consider a linear regression based on the model explaining management score by firm size (point 8). Estimate the linear model using OLS."
   ]
  },
  {
   "cell_type": "code",
   "execution_count": null,
   "metadata": {},
   "outputs": [],
   "source": []
  },
  {
   "cell_type": "markdown",
   "metadata": {},
   "source": [
    "12. Repeat the estimate in point 11 now in a model in which management score is explained by log(firm size) (point 9)."
   ]
  },
  {
   "cell_type": "code",
   "execution_count": null,
   "metadata": {},
   "outputs": [],
   "source": []
  },
  {
   "cell_type": "markdown",
   "metadata": {},
   "source": [
    "13. Compare the R^2 of the two regressions. Explain."
   ]
  },
  {
   "cell_type": "code",
   "execution_count": null,
   "metadata": {},
   "outputs": [],
   "source": []
  },
  {
   "cell_type": "markdown",
   "metadata": {},
   "source": [
    "14. Repeat the analysis of part C with your favourite country in the most recent year at your disposal. Please make sure you have at least 100 data entries. Are your results consistent with France in 2014? It is ok to expand on this part as much as you want."
   ]
  },
  {
   "cell_type": "code",
   "execution_count": null,
   "metadata": {},
   "outputs": [],
   "source": []
  }
 ],
 "metadata": {
  "kernelspec": {
   "display_name": "3.11.6",
   "language": "python",
   "name": "python3"
  },
  "language_info": {
   "codemirror_mode": {
    "name": "ipython",
    "version": 3
   },
   "file_extension": ".py",
   "mimetype": "text/x-python",
   "name": "python",
   "nbconvert_exporter": "python",
   "pygments_lexer": "ipython3",
   "version": "3.11.6"
  }
 },
 "nbformat": 4,
 "nbformat_minor": 4
}
