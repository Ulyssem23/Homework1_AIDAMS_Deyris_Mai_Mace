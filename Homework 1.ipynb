{
 "cells": [
  {
   "cell_type": "markdown",
   "metadata": {},
   "source": [
    "## Econometrics - BSc AIDAMS\n",
    "\n",
    "Prof. Roberto Renò - ESSEC Business School \n",
    "\n",
    "## Homework 1"
   ]
  },
  {
   "cell_type": "code",
   "execution_count": 1,
   "metadata": {},
   "outputs": [],
   "source": [
    "import os\n",
    "import sys\n",
    "\n",
    "import numpy as np\n",
    "import pandas as pd\n",
    "from mizani.formatters import percent_format\n",
    "from plotnine import *\n",
    "import matplotlib.pyplot as plt\n",
    "\n",
    "# Current script folder\n",
    "current_path = os.getcwd()\n",
    "dirname = current_path.split(\"da_case_studies\")[0]\n",
    "\n",
    "# location folders\n",
    "data_in = dirname + \"da_data_repo/wms-management-survey/clean/\"\n",
    "data_out = dirname + \"da_case_studies/ch04-management-firm-size/\"\n",
    "output = dirname + \"da_case_studies/ch04-management-firm-size/output/\"\n",
    "func = dirname + \"da_case_studies/ch00-tech-prep/\"\n",
    "sys.path.append(func)\n",
    "# Current script folder\n",
    "current_path = os.getcwd()\n",
    "dirname = current_path.split(\"da_case_studies\")[0]\n",
    "\n",
    "# location folders (double check you have this on your pc)\n",
    "data_in = dirname + \"/Data/\"\n",
    "data_out = dirname + \"/Data/\"\n",
    "output = dirname + \"/output/\"\n",
    "func = dirname + \"/Settings/\"\n",
    "sys.path.append(func)\n",
    "\n",
    "# Import the prewritten helper functions\n",
    "#from py_helper_functions import *\n",
    "import warnings\n",
    "\n",
    "warnings.filterwarnings(\"ignore\")"
   ]
  },
  {
   "cell_type": "code",
   "execution_count": 2,
   "metadata": {},
   "outputs": [],
   "source": [
    "# Import data from your favourite location\n",
    "df = pd.read_csv(data_in + \"wms_da_textbook.csv\")"
   ]
  },
  {
   "cell_type": "code",
   "execution_count": 3,
   "metadata": {},
   "outputs": [
    {
     "data": {
      "text/plain": [
       "array(['United States', 'Germany', 'France', 'Great Britain', 'Greece',\n",
       "       'Italy', 'Portugal'], dtype=object)"
      ]
     },
     "execution_count": 3,
     "metadata": {},
     "output_type": "execute_result"
    }
   ],
   "source": [
    "df.loc[lambda x: (x[\"wave\"] == 2014)].country.unique()"
   ]
  },
  {
   "cell_type": "code",
   "execution_count": 4,
   "metadata": {},
   "outputs": [],
   "source": [
    "# Sample selection for your homework (part A and B)\n",
    "df1 = df.loc[\n",
    "    lambda x: (x[\"country\"] == \"France\")\n",
    "    & (x[\"wave\"] == 2014)\n",
    "]"
   ]
  },
  {
   "cell_type": "code",
   "execution_count": 5,
   "metadata": {},
   "outputs": [
    {
     "data": {
      "text/html": [
       "<div>\n",
       "<style scoped>\n",
       "    .dataframe tbody tr th:only-of-type {\n",
       "        vertical-align: middle;\n",
       "    }\n",
       "\n",
       "    .dataframe tbody tr th {\n",
       "        vertical-align: top;\n",
       "    }\n",
       "\n",
       "    .dataframe thead th {\n",
       "        text-align: right;\n",
       "    }\n",
       "</style>\n",
       "<table border=\"1\" class=\"dataframe\">\n",
       "  <thead>\n",
       "    <tr style=\"text-align: right;\">\n",
       "      <th></th>\n",
       "      <th>firmid</th>\n",
       "      <th>wave</th>\n",
       "      <th>sic</th>\n",
       "      <th>management</th>\n",
       "      <th>operations</th>\n",
       "      <th>monitor</th>\n",
       "      <th>target</th>\n",
       "      <th>people</th>\n",
       "      <th>lean1</th>\n",
       "      <th>lean2</th>\n",
       "      <th>...</th>\n",
       "      <th>aa_196</th>\n",
       "      <th>aa_197</th>\n",
       "      <th>aa_198</th>\n",
       "      <th>aa_199</th>\n",
       "      <th>aa_200</th>\n",
       "      <th>aa_201</th>\n",
       "      <th>aa_202</th>\n",
       "      <th>aa_203</th>\n",
       "      <th>aa_204</th>\n",
       "      <th>aa_205</th>\n",
       "    </tr>\n",
       "  </thead>\n",
       "  <tbody>\n",
       "    <tr>\n",
       "      <th>count</th>\n",
       "      <td>141.000000</td>\n",
       "      <td>141.0</td>\n",
       "      <td>141.000000</td>\n",
       "      <td>141.000000</td>\n",
       "      <td>141.000000</td>\n",
       "      <td>141.000000</td>\n",
       "      <td>141.000000</td>\n",
       "      <td>141.000000</td>\n",
       "      <td>141.000000</td>\n",
       "      <td>141.000000</td>\n",
       "      <td>...</td>\n",
       "      <td>141.0</td>\n",
       "      <td>141.0</td>\n",
       "      <td>141.0</td>\n",
       "      <td>141.0</td>\n",
       "      <td>141.0</td>\n",
       "      <td>141.0</td>\n",
       "      <td>141.0</td>\n",
       "      <td>141.0</td>\n",
       "      <td>141.0</td>\n",
       "      <td>141.0</td>\n",
       "    </tr>\n",
       "    <tr>\n",
       "      <th>mean</th>\n",
       "      <td>4652.574468</td>\n",
       "      <td>2014.0</td>\n",
       "      <td>30.524823</td>\n",
       "      <td>2.996740</td>\n",
       "      <td>2.957447</td>\n",
       "      <td>3.509220</td>\n",
       "      <td>2.941489</td>\n",
       "      <td>2.627660</td>\n",
       "      <td>2.921986</td>\n",
       "      <td>2.992908</td>\n",
       "      <td>...</td>\n",
       "      <td>0.0</td>\n",
       "      <td>0.0</td>\n",
       "      <td>0.0</td>\n",
       "      <td>0.0</td>\n",
       "      <td>0.0</td>\n",
       "      <td>0.0</td>\n",
       "      <td>0.0</td>\n",
       "      <td>0.0</td>\n",
       "      <td>0.0</td>\n",
       "      <td>0.0</td>\n",
       "    </tr>\n",
       "    <tr>\n",
       "      <th>std</th>\n",
       "      <td>128.837951</td>\n",
       "      <td>0.0</td>\n",
       "      <td>5.255720</td>\n",
       "      <td>0.521241</td>\n",
       "      <td>0.864972</td>\n",
       "      <td>0.693428</td>\n",
       "      <td>0.586392</td>\n",
       "      <td>0.523131</td>\n",
       "      <td>0.971530</td>\n",
       "      <td>0.882338</td>\n",
       "      <td>...</td>\n",
       "      <td>0.0</td>\n",
       "      <td>0.0</td>\n",
       "      <td>0.0</td>\n",
       "      <td>0.0</td>\n",
       "      <td>0.0</td>\n",
       "      <td>0.0</td>\n",
       "      <td>0.0</td>\n",
       "      <td>0.0</td>\n",
       "      <td>0.0</td>\n",
       "      <td>0.0</td>\n",
       "    </tr>\n",
       "    <tr>\n",
       "      <th>min</th>\n",
       "      <td>4445.000000</td>\n",
       "      <td>2014.0</td>\n",
       "      <td>20.000000</td>\n",
       "      <td>1.722222</td>\n",
       "      <td>1.000000</td>\n",
       "      <td>1.800000</td>\n",
       "      <td>1.600000</td>\n",
       "      <td>1.666667</td>\n",
       "      <td>1.000000</td>\n",
       "      <td>1.000000</td>\n",
       "      <td>...</td>\n",
       "      <td>0.0</td>\n",
       "      <td>0.0</td>\n",
       "      <td>0.0</td>\n",
       "      <td>0.0</td>\n",
       "      <td>0.0</td>\n",
       "      <td>0.0</td>\n",
       "      <td>0.0</td>\n",
       "      <td>0.0</td>\n",
       "      <td>0.0</td>\n",
       "      <td>0.0</td>\n",
       "    </tr>\n",
       "    <tr>\n",
       "      <th>25%</th>\n",
       "      <td>4543.000000</td>\n",
       "      <td>2014.0</td>\n",
       "      <td>26.000000</td>\n",
       "      <td>2.611111</td>\n",
       "      <td>2.500000</td>\n",
       "      <td>3.000000</td>\n",
       "      <td>2.400000</td>\n",
       "      <td>2.333333</td>\n",
       "      <td>2.000000</td>\n",
       "      <td>2.000000</td>\n",
       "      <td>...</td>\n",
       "      <td>0.0</td>\n",
       "      <td>0.0</td>\n",
       "      <td>0.0</td>\n",
       "      <td>0.0</td>\n",
       "      <td>0.0</td>\n",
       "      <td>0.0</td>\n",
       "      <td>0.0</td>\n",
       "      <td>0.0</td>\n",
       "      <td>0.0</td>\n",
       "      <td>0.0</td>\n",
       "    </tr>\n",
       "    <tr>\n",
       "      <th>50%</th>\n",
       "      <td>4653.000000</td>\n",
       "      <td>2014.0</td>\n",
       "      <td>32.000000</td>\n",
       "      <td>3.055556</td>\n",
       "      <td>3.000000</td>\n",
       "      <td>3.400000</td>\n",
       "      <td>3.000000</td>\n",
       "      <td>2.500000</td>\n",
       "      <td>3.000000</td>\n",
       "      <td>3.000000</td>\n",
       "      <td>...</td>\n",
       "      <td>0.0</td>\n",
       "      <td>0.0</td>\n",
       "      <td>0.0</td>\n",
       "      <td>0.0</td>\n",
       "      <td>0.0</td>\n",
       "      <td>0.0</td>\n",
       "      <td>0.0</td>\n",
       "      <td>0.0</td>\n",
       "      <td>0.0</td>\n",
       "      <td>0.0</td>\n",
       "    </tr>\n",
       "    <tr>\n",
       "      <th>75%</th>\n",
       "      <td>4739.000000</td>\n",
       "      <td>2014.0</td>\n",
       "      <td>35.000000</td>\n",
       "      <td>3.388889</td>\n",
       "      <td>3.500000</td>\n",
       "      <td>4.000000</td>\n",
       "      <td>3.200000</td>\n",
       "      <td>3.000000</td>\n",
       "      <td>4.000000</td>\n",
       "      <td>3.000000</td>\n",
       "      <td>...</td>\n",
       "      <td>0.0</td>\n",
       "      <td>0.0</td>\n",
       "      <td>0.0</td>\n",
       "      <td>0.0</td>\n",
       "      <td>0.0</td>\n",
       "      <td>0.0</td>\n",
       "      <td>0.0</td>\n",
       "      <td>0.0</td>\n",
       "      <td>0.0</td>\n",
       "      <td>0.0</td>\n",
       "    </tr>\n",
       "    <tr>\n",
       "      <th>max</th>\n",
       "      <td>4923.000000</td>\n",
       "      <td>2014.0</td>\n",
       "      <td>39.000000</td>\n",
       "      <td>4.222222</td>\n",
       "      <td>5.000000</td>\n",
       "      <td>5.000000</td>\n",
       "      <td>4.400000</td>\n",
       "      <td>4.166667</td>\n",
       "      <td>5.000000</td>\n",
       "      <td>5.000000</td>\n",
       "      <td>...</td>\n",
       "      <td>0.0</td>\n",
       "      <td>0.0</td>\n",
       "      <td>0.0</td>\n",
       "      <td>0.0</td>\n",
       "      <td>0.0</td>\n",
       "      <td>0.0</td>\n",
       "      <td>0.0</td>\n",
       "      <td>0.0</td>\n",
       "      <td>0.0</td>\n",
       "      <td>0.0</td>\n",
       "    </tr>\n",
       "  </tbody>\n",
       "</table>\n",
       "<p>8 rows × 240 columns</p>\n",
       "</div>"
      ],
      "text/plain": [
       "            firmid    wave         sic  management  operations     monitor  \\\n",
       "count   141.000000   141.0  141.000000  141.000000  141.000000  141.000000   \n",
       "mean   4652.574468  2014.0   30.524823    2.996740    2.957447    3.509220   \n",
       "std     128.837951     0.0    5.255720    0.521241    0.864972    0.693428   \n",
       "min    4445.000000  2014.0   20.000000    1.722222    1.000000    1.800000   \n",
       "25%    4543.000000  2014.0   26.000000    2.611111    2.500000    3.000000   \n",
       "50%    4653.000000  2014.0   32.000000    3.055556    3.000000    3.400000   \n",
       "75%    4739.000000  2014.0   35.000000    3.388889    3.500000    4.000000   \n",
       "max    4923.000000  2014.0   39.000000    4.222222    5.000000    5.000000   \n",
       "\n",
       "           target      people       lean1       lean2  ...  aa_196  aa_197  \\\n",
       "count  141.000000  141.000000  141.000000  141.000000  ...   141.0   141.0   \n",
       "mean     2.941489    2.627660    2.921986    2.992908  ...     0.0     0.0   \n",
       "std      0.586392    0.523131    0.971530    0.882338  ...     0.0     0.0   \n",
       "min      1.600000    1.666667    1.000000    1.000000  ...     0.0     0.0   \n",
       "25%      2.400000    2.333333    2.000000    2.000000  ...     0.0     0.0   \n",
       "50%      3.000000    2.500000    3.000000    3.000000  ...     0.0     0.0   \n",
       "75%      3.200000    3.000000    4.000000    3.000000  ...     0.0     0.0   \n",
       "max      4.400000    4.166667    5.000000    5.000000  ...     0.0     0.0   \n",
       "\n",
       "       aa_198  aa_199  aa_200  aa_201  aa_202  aa_203  aa_204  aa_205  \n",
       "count   141.0   141.0   141.0   141.0   141.0   141.0   141.0   141.0  \n",
       "mean      0.0     0.0     0.0     0.0     0.0     0.0     0.0     0.0  \n",
       "std       0.0     0.0     0.0     0.0     0.0     0.0     0.0     0.0  \n",
       "min       0.0     0.0     0.0     0.0     0.0     0.0     0.0     0.0  \n",
       "25%       0.0     0.0     0.0     0.0     0.0     0.0     0.0     0.0  \n",
       "50%       0.0     0.0     0.0     0.0     0.0     0.0     0.0     0.0  \n",
       "75%       0.0     0.0     0.0     0.0     0.0     0.0     0.0     0.0  \n",
       "max       0.0     0.0     0.0     0.0     0.0     0.0     0.0     0.0  \n",
       "\n",
       "[8 rows x 240 columns]"
      ]
     },
     "execution_count": 5,
     "metadata": {},
     "output_type": "execute_result"
    }
   ],
   "source": [
    "df1.describe()"
   ]
  },
  {
   "cell_type": "code",
   "execution_count": 6,
   "metadata": {},
   "outputs": [
    {
     "data": {
      "text/plain": [
       "['firmid',\n",
       " 'wave',\n",
       " 'cty',\n",
       " 'country',\n",
       " 'sic',\n",
       " 'management',\n",
       " 'operations',\n",
       " 'monitor',\n",
       " 'target',\n",
       " 'people',\n",
       " 'lean1',\n",
       " 'lean2',\n",
       " 'perf1',\n",
       " 'perf2',\n",
       " 'perf3',\n",
       " 'perf4',\n",
       " 'perf5',\n",
       " 'perf6',\n",
       " 'perf7',\n",
       " 'perf8',\n",
       " 'perf9',\n",
       " 'perf10',\n",
       " 'talent1',\n",
       " 'talent2',\n",
       " 'talent3',\n",
       " 'talent4',\n",
       " 'talent5',\n",
       " 'talent6',\n",
       " 'emp_firm',\n",
       " 'firmage',\n",
       " 'ownership',\n",
       " 'mne_yn',\n",
       " 'mne_cty',\n",
       " 'competition',\n",
       " 'export',\n",
       " 'degree_m',\n",
       " 'degree_nm',\n",
       " 'degree_t',\n",
       " 'i_seniority',\n",
       " 'reliability',\n",
       " 'aa_1',\n",
       " 'aa_2',\n",
       " 'aa_3',\n",
       " 'aa_4',\n",
       " 'aa_5',\n",
       " 'aa_6',\n",
       " 'aa_7',\n",
       " 'aa_8',\n",
       " 'aa_9',\n",
       " 'aa_10',\n",
       " 'aa_11',\n",
       " 'aa_12',\n",
       " 'aa_13',\n",
       " 'aa_14',\n",
       " 'aa_15',\n",
       " 'aa_16',\n",
       " 'aa_17',\n",
       " 'aa_18',\n",
       " 'aa_19',\n",
       " 'aa_20',\n",
       " 'aa_21',\n",
       " 'aa_22',\n",
       " 'aa_23',\n",
       " 'aa_24',\n",
       " 'aa_25',\n",
       " 'aa_26',\n",
       " 'aa_27',\n",
       " 'aa_28',\n",
       " 'aa_29',\n",
       " 'aa_30',\n",
       " 'aa_31',\n",
       " 'aa_32',\n",
       " 'aa_33',\n",
       " 'aa_34',\n",
       " 'aa_35',\n",
       " 'aa_36',\n",
       " 'aa_37',\n",
       " 'aa_38',\n",
       " 'aa_39',\n",
       " 'aa_40',\n",
       " 'aa_41',\n",
       " 'aa_42',\n",
       " 'aa_43',\n",
       " 'aa_44',\n",
       " 'aa_45',\n",
       " 'aa_46',\n",
       " 'aa_47',\n",
       " 'aa_48',\n",
       " 'aa_49',\n",
       " 'aa_50',\n",
       " 'aa_51',\n",
       " 'aa_52',\n",
       " 'aa_53',\n",
       " 'aa_54',\n",
       " 'aa_55',\n",
       " 'aa_56',\n",
       " 'aa_57',\n",
       " 'aa_58',\n",
       " 'aa_59',\n",
       " 'aa_60',\n",
       " 'aa_61',\n",
       " 'aa_62',\n",
       " 'aa_63',\n",
       " 'aa_64',\n",
       " 'aa_65',\n",
       " 'aa_66',\n",
       " 'aa_67',\n",
       " 'aa_68',\n",
       " 'aa_69',\n",
       " 'aa_70',\n",
       " 'aa_71',\n",
       " 'aa_72',\n",
       " 'aa_73',\n",
       " 'aa_74',\n",
       " 'aa_75',\n",
       " 'aa_76',\n",
       " 'aa_77',\n",
       " 'aa_78',\n",
       " 'aa_79',\n",
       " 'aa_80',\n",
       " 'aa_81',\n",
       " 'aa_82',\n",
       " 'aa_83',\n",
       " 'aa_84',\n",
       " 'aa_85',\n",
       " 'aa_86',\n",
       " 'aa_87',\n",
       " 'aa_88',\n",
       " 'aa_89',\n",
       " 'aa_90',\n",
       " 'aa_91',\n",
       " 'aa_92',\n",
       " 'aa_93',\n",
       " 'aa_94',\n",
       " 'aa_95',\n",
       " 'aa_96',\n",
       " 'aa_97',\n",
       " 'aa_98',\n",
       " 'aa_99',\n",
       " 'aa_100',\n",
       " 'aa_101',\n",
       " 'aa_102',\n",
       " 'aa_103',\n",
       " 'aa_104',\n",
       " 'aa_105',\n",
       " 'aa_106',\n",
       " 'aa_107',\n",
       " 'aa_108',\n",
       " 'aa_109',\n",
       " 'aa_110',\n",
       " 'aa_111',\n",
       " 'aa_112',\n",
       " 'aa_113',\n",
       " 'aa_114',\n",
       " 'aa_115',\n",
       " 'aa_116',\n",
       " 'aa_117',\n",
       " 'aa_118',\n",
       " 'aa_119',\n",
       " 'aa_120',\n",
       " 'aa_121',\n",
       " 'aa_122',\n",
       " 'aa_123',\n",
       " 'aa_124',\n",
       " 'aa_125',\n",
       " 'aa_126',\n",
       " 'aa_127',\n",
       " 'aa_128',\n",
       " 'aa_129',\n",
       " 'aa_130',\n",
       " 'aa_131',\n",
       " 'aa_132',\n",
       " 'aa_133',\n",
       " 'aa_134',\n",
       " 'aa_135',\n",
       " 'aa_136',\n",
       " 'aa_137',\n",
       " 'aa_138',\n",
       " 'aa_139',\n",
       " 'aa_140',\n",
       " 'aa_141',\n",
       " 'aa_142',\n",
       " 'aa_143',\n",
       " 'aa_144',\n",
       " 'aa_145',\n",
       " 'aa_146',\n",
       " 'aa_147',\n",
       " 'aa_148',\n",
       " 'aa_149',\n",
       " 'aa_150',\n",
       " 'aa_151',\n",
       " 'aa_152',\n",
       " 'aa_153',\n",
       " 'aa_154',\n",
       " 'aa_155',\n",
       " 'aa_156',\n",
       " 'aa_157',\n",
       " 'aa_158',\n",
       " 'aa_159',\n",
       " 'aa_160',\n",
       " 'aa_161',\n",
       " 'aa_162',\n",
       " 'aa_163',\n",
       " 'aa_164',\n",
       " 'aa_165',\n",
       " 'aa_166',\n",
       " 'aa_167',\n",
       " 'aa_168',\n",
       " 'aa_169',\n",
       " 'aa_170',\n",
       " 'aa_171',\n",
       " 'aa_172',\n",
       " 'aa_173',\n",
       " 'aa_174',\n",
       " 'aa_175',\n",
       " 'aa_176',\n",
       " 'aa_177',\n",
       " 'aa_178',\n",
       " 'aa_179',\n",
       " 'aa_180',\n",
       " 'aa_181',\n",
       " 'aa_182',\n",
       " 'aa_183',\n",
       " 'aa_184',\n",
       " 'aa_185',\n",
       " 'aa_186',\n",
       " 'aa_187',\n",
       " 'aa_188',\n",
       " 'aa_189',\n",
       " 'aa_190',\n",
       " 'aa_191',\n",
       " 'aa_192',\n",
       " 'aa_193',\n",
       " 'aa_194',\n",
       " 'aa_195',\n",
       " 'aa_196',\n",
       " 'aa_197',\n",
       " 'aa_198',\n",
       " 'aa_199',\n",
       " 'aa_200',\n",
       " 'aa_201',\n",
       " 'aa_202',\n",
       " 'aa_203',\n",
       " 'aa_204',\n",
       " 'aa_205']"
      ]
     },
     "execution_count": 6,
     "metadata": {},
     "output_type": "execute_result"
    }
   ],
   "source": [
    "list(df1)"
   ]
  },
  {
   "cell_type": "markdown",
   "metadata": {},
   "source": [
    "## Management Quality and Firm Performance\n",
    "\n",
    "The data for this case study is from a large-scale research project aiming to fill this gap. The World Management Survey (WMS; http://worldmanagementsurvey.org) collects data on management practices from many firms and other organizations across various industries and countries. This is a major international survey that combines a traditional survey methodology with other methods; see Sections 1.5 and 1.6 below on data collection methods.\n",
    "\n",
    "The most important variables in the WMS are the management practice “scores.”. Eighteen such scores are in the data, each measuring the quality of management practices in an important area, such as tracking and reviewing performance, the time horizon and breadth of targets, or attracting and retaining human capital. The scores range from 1 through 5, with 1 indicating worst practice and 5 indicating best practice. Importantly, this is the intended content of the variable. The actual content is determined by how it is measured: what information is used to construct the score, where that information comes from, how the scores are constructed from that information, whether there is room for error in that process, and so on.\n",
    "\n",
    "## Questions \n",
    "\n",
    "Part A\n",
    "\n",
    "We focus on France, 2014 data (parts A-B-C). Management scores are in the column \"management\". The number of employees is in the column \"emp_firm\".\n",
    "\n",
    "1. Display an histogram of the \"management\" scores. Which theoretical distribution could fit?\n",
    "2. Compute the sample average and sample standard deviation of the \"management\" score.\n",
    "3. Display an histogram of the \"number of employees\". Which theoretical distribution would fit?\n",
    "4. Find a transformation of the variable \"number of employees\" such that its distribution looks like a normal distribution. (hint: the closer your distribution to a Normal distribution, the closer its kurtosis to 3)\n",
    "\n",
    "Part B: finding associations\n",
    "\n",
    "We now measure management quality by the \"management\" variable and firm size by the \"emp_firm\" variable.\n",
    "\n",
    "5. Divide the firm size into three quantiles with roughly the same number of observations in the three quantiles. Call these three sets small, intermediate and big firms respectively.\n",
    "6. Compute the average management score for small, intermediate and big firms.\n",
    "7. Test if there is a significant difference in management score between big and small firms.\n",
    "8. Create a scatter plot between firm size and management score.\n",
    "9. Create a scatter plot between log(firm size) and management score.\n",
    "10. Compute the correlations between the variables at point 8 and 9. Comment.\n",
    "\n",
    "\n",
    "Part C: simple regression\n",
    "\n",
    "11. Consider a linear regression based on the model explaining management score by firm size (point 8). Estimate the linear model using OLS.\n",
    "12. Repeat the estimate in point 11 now in a model in which management score is explained by log(firm size) (point 9).\n",
    "13. Compare the R^2 of the two regressions. Explain.\n",
    "\n",
    "Part D: choose your country/year\n",
    "\n",
    "14. Repeat the analysis of part C with your favourite country in the most recent year at your disposal. Please make sure you have at least 100 data entries. Are your results consistent with France in 2014? It is ok to expand on this part as much as you want.\n",
    "\n",
    "\n"
   ]
  },
  {
   "cell_type": "markdown",
   "metadata": {},
   "source": [
    "# Part A"
   ]
  },
  {
   "cell_type": "markdown",
   "metadata": {},
   "source": [
    "## 1. Display an histogram of the \"management\" scores. Which theoretical distribution could fit?"
   ]
  },
  {
   "cell_type": "code",
   "execution_count": 7,
   "metadata": {},
   "outputs": [
    {
     "data": {
      "image/png": "[encoded data removed]",
      "text/plain": [
       "<Figure size 640x480 with 1 Axes>"
      ]
     },
     "metadata": {},
     "output_type": "display_data"
    }
   ],
   "source": [
    "# Extract 'management' scores\n",
    "management_scores = df1['management']\n",
    "\n",
    "# Plot the histogram of \"management\" scores\n",
    "plt.hist(management_scores, bins=20, density=True, alpha=1, color='#0062ff',edgecolor = '#6200ff')\n",
    "plt.title('Histogram of management scores of France in 2014')\n",
    "plt.xlabel('management scores')\n",
    "plt.ylabel('density')\n",
    "plt.show()\n"
   ]
  },
  {
   "cell_type": "markdown",
   "metadata": {},
   "source": [
    "# 2. Compute the sample average and sample standard deviation of the \"management\" score."
   ]
  },
  {
   "cell_type": "code",
   "execution_count": 8,
   "metadata": {},
   "outputs": [
    {
     "name": "stdout",
     "output_type": "stream",
     "text": [
      "Sample Mean : 2.99673955829431\n",
      "Sample Standard Deviation : 0.5212406218028387\n"
     ]
    }
   ],
   "source": [
    "# sample mean\n",
    "mean_management = np.mean(df1['management'])\n",
    "\n",
    "# sample standard deviation\n",
    "std_management = np.std(df1['management'], ddof=1)  # ddof=1 for sample standard deviation\n",
    "\n",
    "print(\"Sample Mean :\", mean_management)\n",
    "print(\"Sample Standard Deviation :\", std_management)"
   ]
  },
  {
   "cell_type": "markdown",
   "metadata": {},
   "source": [
    "# 3. Display an histogram of the \"number of employees\". Which theoretical distribution would fit?"
   ]
  },
  {
   "cell_type": "code",
   "execution_count": 9,
   "metadata": {},
   "outputs": [
    {
     "data": {
      "image/png": "[encoded data removed]",
      "text/plain": [
       "<Figure size 640x480 with 1 Axes>"
      ]
     },
     "metadata": {},
     "output_type": "display_data"
    }
   ],
   "source": [
    "# Extract the \"number of employees\" column\n",
    "num_employees = df1['emp_firm']\n",
    "\n",
    "# Plot the histogram\n",
    "plt.hist(num_employees, bins=20, density=True, alpha=0.7,color='#03c6fc')\n",
    "plt.title('Histogram of number of employees')\n",
    "plt.xlabel('number of employees')\n",
    "plt.ylabel('density')\n",
    "plt.show()\n"
   ]
  },
  {
   "cell_type": "markdown",
   "metadata": {},
   "source": [
    "# Based on the histogram, the Log-Normal distribution is the best theoretical fit from the course.\n",
    "\n",
    "Justification:\n",
    "1. The data is strictly positive as the number of employees cannot be negative\n",
    "2. The histogram is highly right-skewed, with a concentration of small values and a long tail, which is characteristic of a log-normal distribution.\n",
    "3. In econometrics, firm sizes and similar economic variables (e.g., income, wealth) often follow a log-normal distribution due to multiplicative growth processes.\n",
    "- If the log-transformed data follows a normal distribution, then the original data follows a log-normal distribution."
   ]
  },
  {
   "cell_type": "markdown",
   "metadata": {},
   "source": [
    "# 4. Find a transformation of the variable \"number of employees\" such that its distribution looks like a normal distribution. (hint: the closer your distribution to a Normal distribution, the closer its kurtosis to 3)"
   ]
  },
  {
   "cell_type": "code",
   "execution_count": 10,
   "metadata": {},
   "outputs": [
    {
     "name": "stdout",
     "output_type": "stream",
     "text": [
      "Kurtosis of Log-Transformed of emp_firm (number of employees): -0.52\n"
     ]
    },
    {
     "data": {
      "image/png": "[encoded data removed]",
      "text/plain": [
       "<Figure size 640x480 with 1 Axes>"
      ]
     },
     "execution_count": 10,
     "metadata": {},
     "output_type": "execute_result"
    }
   ],
   "source": [
    "\n",
    "# Apply Log Transformation (Avoid log(0) issue by adding 1)\n",
    "df1['log_employees'] = np.log(df1['emp_firm'] +1)\n",
    "\n",
    "# Compute kurtosis of log-transformed data\n",
    "kurtosis_log = df1['log_employees'].kurtosis()\n",
    "\n",
    "# Print kurtosis result\n",
    "print(f\"Kurtosis of Log-Transformed of emp_firm (number of employees): {kurtosis_log:.2f}\")\n",
    "\n",
    "# Plot histogram using plotnine (ggplot-style visualization)\n",
    "plot = (\n",
    "    ggplot(df1, aes(x='log_employees')) +\n",
    "    geom_histogram(binwidth=0.4, fill='blue', alpha=0.7, color='black') +\n",
    "    labs(title=f\"Histogram of Log-Transformed 'Number of Employees'\\nKurtosis: {kurtosis_log:.2f}\" ,\n",
    "         x=\"Log(Number of Employees)\" ,\n",
    "         y=\"Density\")+\n",
    "    theme_minimal()\n",
    ")\n",
    "\n",
    "# Show plot\n",
    "plot.draw()\n",
    "\n"
   ]
  },
  {
   "cell_type": "markdown",
   "metadata": {},
   "source": [
    "## Part B: finding associations\n",
    "\n",
    "We now measure management quality by the \"management\" variable and firm size by the \"emp_firm\" variable.\n",
    "\n",
    "# 5. Divide the firm size into three quantiles with roughly the same number of observations in the three quantiles. Call these three sets small, intermediate and big firms respectively."
   ]
  },
  {
   "cell_type": "code",
   "execution_count": 11,
   "metadata": {},
   "outputs": [
    {
     "name": "stdout",
     "output_type": "stream",
     "text": [
      "      emp_firm firm_size_category\n",
      "5957     120.0              small\n",
      "5959      71.0              small\n",
      "5962     100.0              small\n",
      "5964      54.0              small\n",
      "5968    1300.0                big\n",
      "firm_size_category\n",
      "small           47\n",
      "intermediate    47\n",
      "big             47\n",
      "Name: count, dtype: int64\n"
     ]
    }
   ],
   "source": [
    "\n",
    "# Create quantile-based firm size categories\n",
    "df1['firm_size_category'] = pd.qcut( df1['emp_firm'], q=3, labels=['small','intermediate', 'big'])\n",
    "\n",
    "# Display the first few rows to verify\n",
    "print( df1[['emp_firm', 'firm_size_category']].head() )\n",
    "\n",
    "# Count of firms in each category\n",
    "print( df1['firm_size_category'].value_counts())\n"
   ]
  },
  {
   "cell_type": "markdown",
   "metadata": {},
   "source": [
    "## 6. Compute the average management score for small, intermediate and big firms."
   ]
  },
  {
   "cell_type": "code",
   "execution_count": 12,
   "metadata": {},
   "outputs": [
    {
     "name": "stdout",
     "output_type": "stream",
     "text": [
      "     firm_size_category  management\n",
      "5957              small    3.500000\n",
      "5959              small    2.222222\n",
      "5962              small    2.888889\n",
      "5964              small    2.666667\n",
      "5968                big    3.777778\n",
      "...                 ...         ...\n",
      "6642       intermediate    2.944444\n",
      "6643                big    3.555556\n",
      "6661              small    3.888889\n",
      "6708                big    3.333333\n",
      "6711              small    2.722222\n",
      "\n",
      "[141 rows x 2 columns]\n",
      "firm_size_category\n",
      "small           47\n",
      "intermediate    47\n",
      "big             47\n",
      "Name: count, dtype: int64\n",
      "2.77556145952103\n",
      "2.9101655077427004\n",
      "3.3044917076192\n"
     ]
    }
   ],
   "source": [
    "# extract from df1 the management scores of three types of firms\n",
    "df2 = df1[['firm_size_category','management']]\n",
    "print(df2)\n",
    "print(df2['firm_size_category'].value_counts())\n",
    "\n",
    "small = df2['management'][df2['firm_size_category'] == 'small']\n",
    "\n",
    "avg_small = np.mean(small)\n",
    "print(avg_small)\n",
    "\n",
    "intermediate = df2['management'][df2['firm_size_category'] == 'intermediate']\n",
    "avg_inter = np.mean(intermediate)\n",
    "print(avg_inter)\n",
    "\n",
    "big = df2['management'][df2['firm_size_category'] == 'big']\n",
    "avg_big = np.mean(big)\n",
    "print(avg_big)"
   ]
  },
  {
   "cell_type": "markdown",
   "metadata": {},
   "source": [
    "## 7. Test if there is a significant difference in management score between big and small firms."
   ]
  },
  {
   "cell_type": "code",
   "execution_count": 13,
   "metadata": {},
   "outputs": [
    {
     "name": "stdout",
     "output_type": "stream",
     "text": [
      "sd small firms: 0.5331968572378436 sd big firms: 0.485172839600912'\n",
      "sd small firms: 2.77556145952103 sd big firms: 3.3044917076192'\n",
      "T-statistic: -5.0300754054464045\n",
      "P-value: 2.4432561295661127e-06\n"
     ]
    }
   ],
   "source": [
    "# H0: there is no significant difference\n",
    "# H1: there is a significant difference\n",
    "\n",
    "# sample standard deviation\n",
    "std_management_small = np.std(small, ddof=1)  # ddof=1 for sample standard deviation\n",
    "std_management_big = np.std(big, ddof=1)\n",
    "print(f\"sd small firms: {std_management_small} sd big firms: {std_management_big}'\")\n",
    "\n",
    "mean_management_small = np.mean(small) \n",
    "mean_management_big = np.mean(big)\n",
    "print(f\"sd small firms: {mean_management_small} sd big firms: {mean_management_big}'\")\n",
    "\n",
    "# we use a two sample tes test since we don't know about the population sd\n",
    "from scipy.stats import ttest_ind\n",
    "t_stat, p_value = ttest_ind(small, big, equal_var=False)\n",
    "\n",
    "print(f\"T-statistic: {t_stat}\")\n",
    "print(f\"P-value: {p_value}\")\n",
    "\n",
    "# we compare: critical_level=0.05 with p_value\n",
    "# critical_value < P_value --> therefore we accept H0: there is no significant difference"
   ]
  },
  {
   "cell_type": "markdown",
   "metadata": {},
   "source": [
    "## 8. Create a scatter plot between firm size and management score."
   ]
  },
  {
   "cell_type": "code",
   "execution_count": 14,
   "metadata": {},
   "outputs": [
    {
     "data": {
      "text/plain": [
       "Text(0, 0.5, 'management score')"
      ]
     },
     "execution_count": 14,
     "metadata": {},
     "output_type": "execute_result"
    },
    {
     "data": {
      "image/png": "[encoded data removed]",
      "text/plain": [
       "<Figure size 640x480 with 1 Axes>"
      ]
     },
     "metadata": {},
     "output_type": "display_data"
    }
   ],
   "source": [
    "y= df1['management']\n",
    "x= df1['emp_firm']\n",
    "plt.scatter(x,y)\n",
    "plt.title('scatter plot: firm size vs. management score')\n",
    "plt.xlabel('firm size')\n",
    "plt.ylabel('management score')"
   ]
  },
  {
   "cell_type": "markdown",
   "metadata": {},
   "source": [
    "## 9. Create a scatter plot between log(firm size) and management score."
   ]
  },
  {
   "cell_type": "code",
   "execution_count": 15,
   "metadata": {},
   "outputs": [
    {
     "data": {
      "text/plain": [
       "Text(0, 0.5, 'management score')"
      ]
     },
     "execution_count": 15,
     "metadata": {},
     "output_type": "execute_result"
    },
    {
     "data": {
      "image/png": "[encoded data removed]",
      "text/plain": [
       "<Figure size 640x480 with 1 Axes>"
      ]
     },
     "metadata": {},
     "output_type": "display_data"
    }
   ],
   "source": [
    "x_log= np.log(df1['emp_firm'])\n",
    "plt.scatter(x_log,y)\n",
    "plt.title('scatter plot: firm size vs. management score')\n",
    "plt.xlabel('log(firm size)')\n",
    "plt.ylabel('management score')"
   ]
  },
  {
   "cell_type": "markdown",
   "metadata": {},
   "source": [
    "## 10. Compute the correlations between the variables at point 8 and 9. Comment."
   ]
  },
  {
   "cell_type": "code",
   "execution_count": 16,
   "metadata": {},
   "outputs": [
    {
     "name": "stdout",
     "output_type": "stream",
     "text": [
      "correlation between firm size and firm management score:\n",
      " [[1.        0.3898728]\n",
      " [0.3898728 1.       ]]\n",
      "correlation between log(firm size) and firm management score:\n",
      " [[1.         0.47440348]\n",
      " [0.47440348 1.        ]]\n"
     ]
    },
    {
     "data": {
      "text/plain": [
       "'\\nComment: we can observe and clearly see from the correlation coefficients given by the calculation that the diagram with log firm size has a stronger \\ncorrelation. Although both positive, the correlation coefficient between firm size and management score is ~0.39, indicating a moderate positive relationship. \\nHowever, after applying a logarithmic transformation to firm size, the correlation increases to ~0.47. This suggests that the relationship may be non-linear —\\nwith management scores rising more sharply for smaller firms and leveling off for larger ones. The log transformation helps capture this pattern by highlighting \\nthe diminishing returns effect as firms grow. This is related to the management and economic concept: economies of scale -- as firm grows to surpass a certain size, \\nits management efficiency starts to plateau and eventually reaches a maximum and decreases.\\n'"
      ]
     },
     "execution_count": 16,
     "metadata": {},
     "output_type": "execute_result"
    }
   ],
   "source": [
    "correlation = np.corrcoef(x, y)\n",
    "correlation_log = np.corrcoef(x_log, y)\n",
    "print(f'correlation between firm size and firm management score:\\n {correlation}')\n",
    "print(f'correlation between log(firm size) and firm management score:\\n {correlation_log}')\n",
    "\n",
    "'''\n",
    "Comment: we can observe and clearly see from the correlation coefficients given by the calculation that the diagram with log firm size has a stronger \n",
    "correlation. Although both positive, the correlation coefficient between firm size and management score is ~0.39, indicating a moderate positive relationship. \n",
    "However, after applying a logarithmic transformation to firm size, the correlation increases to ~0.47. This suggests that the relationship may be non-linear —\n",
    "with management scores rising more sharply for smaller firms and leveling off for larger ones. The log transformation helps capture this pattern by highlighting \n",
    "the diminishing returns effect as firms grow. This is related to the management and economic concept: economies of scale -- as firm grows to surpass a certain size, \n",
    "its management efficiency starts to plateau and eventually reaches a maximum and decreases.\n",
    "'''"
   ]
  },
  {
   "cell_type": "markdown",
   "metadata": {},
   "source": [
    "11. Consider a linear regression based on the model explaining management score by firm size (point 8). Estimate the linear model using OLS."
   ]
  },
  {
   "cell_type": "code",
   "execution_count": 17,
   "metadata": {},
   "outputs": [
    {
     "name": "stdout",
     "output_type": "stream",
     "text": [
      "                            OLS Regression Results                            \n",
      "==============================================================================\n",
      "Dep. Variable:             management   R-squared:                       0.152\n",
      "Model:                            OLS   Adj. R-squared:                  0.146\n",
      "Method:                 Least Squares   F-statistic:                     24.92\n",
      "Date:                Tue, 25 Feb 2025   Prob (F-statistic):           1.76e-06\n",
      "Time:                        12:11:05   Log-Likelihood:                -96.077\n",
      "No. Observations:                 141   AIC:                             196.2\n",
      "Df Residuals:                     139   BIC:                             202.1\n",
      "Df Model:                           1                                         \n",
      "Covariance Type:            nonrobust                                         \n",
      "==============================================================================\n",
      "                 coef    std err          t      P>|t|      [0.025      0.975]\n",
      "------------------------------------------------------------------------------\n",
      "const          2.8576      0.049     58.048      0.000       2.760       2.955\n",
      "emp_firm       0.0002      5e-05      4.992      0.000       0.000       0.000\n",
      "==============================================================================\n",
      "Omnibus:                        0.328   Durbin-Watson:                   2.221\n",
      "Prob(Omnibus):                  0.849   Jarque-Bera (JB):                0.487\n",
      "Skew:                          -0.071   Prob(JB):                        0.784\n",
      "Kurtosis:                       2.749   Cond. No.                     1.19e+03\n",
      "==============================================================================\n",
      "\n",
      "Notes:\n",
      "[1] Standard Errors assume that the covariance matrix of the errors is correctly specified.\n",
      "[2] The condition number is large, 1.19e+03. This might indicate that there are\n",
      "strong multicollinearity or other numerical problems.\n"
     ]
    }
   ],
   "source": [
    "import statsmodels.api as sm\n",
    "\n",
    "X = sm.add_constant(x)\n",
    "model = sm.OLS(y, X).fit()\n",
    "print(model.summary())"
   ]
  },
  {
   "cell_type": "markdown",
   "metadata": {},
   "source": [
    "12. Repeat the estimate in point 11 now in a model in which management score is explained by log(firm size) (point 9)."
   ]
  },
  {
   "cell_type": "code",
   "execution_count": 18,
   "metadata": {},
   "outputs": [
    {
     "name": "stdout",
     "output_type": "stream",
     "text": [
      "                            OLS Regression Results                            \n",
      "==============================================================================\n",
      "Dep. Variable:             management   R-squared:                       0.225\n",
      "Model:                            OLS   Adj. R-squared:                  0.219\n",
      "Method:                 Least Squares   F-statistic:                     40.37\n",
      "Date:                Tue, 25 Feb 2025   Prob (F-statistic):           2.80e-09\n",
      "Time:                        12:11:05   Log-Likelihood:                -89.726\n",
      "No. Observations:                 141   AIC:                             183.5\n",
      "Df Residuals:                     139   BIC:                             189.3\n",
      "Df Model:                           1                                         \n",
      "Covariance Type:            nonrobust                                         \n",
      "==============================================================================\n",
      "                 coef    std err          t      P>|t|      [0.025      0.975]\n",
      "------------------------------------------------------------------------------\n",
      "const          1.7978      0.193      9.332      0.000       1.417       2.179\n",
      "emp_firm       0.2149      0.034      6.354      0.000       0.148       0.282\n",
      "==============================================================================\n",
      "Omnibus:                        0.070   Durbin-Watson:                   2.156\n",
      "Prob(Omnibus):                  0.965   Jarque-Bera (JB):                0.001\n",
      "Skew:                           0.006   Prob(JB):                        0.999\n",
      "Kurtosis:                       2.994   Cond. No.                         29.1\n",
      "==============================================================================\n",
      "\n",
      "Notes:\n",
      "[1] Standard Errors assume that the covariance matrix of the errors is correctly specified.\n"
     ]
    }
   ],
   "source": [
    "X_log = sm.add_constant(x_log)\n",
    "model_log = sm.OLS(y, X_log).fit()\n",
    "print(model_log.summary())"
   ]
  },
  {
   "cell_type": "markdown",
   "metadata": {},
   "source": [
    "13. Compare the R^2 of the two regressions. Explain."
   ]
  },
  {
   "cell_type": "code",
   "execution_count": 19,
   "metadata": {},
   "outputs": [
    {
     "data": {
      "text/plain": [
       "'\\n\\nThe R^2 result of the non-log regression was 0.152\\nThe R^2 result of the log regression was 0.225\\n\\nSince a higher R^2 result implies a more successful regression model, we can see that the log regression was supposedly better, since more of the variability is accounted for with it.\\nAs it explains more variance in management score than the non-log model, it also implies that the relationship between firm size and management score is non-linear,\\nwhich aligns with the earlier correlation results.\\n\\nIf we were to look at other variables of the regression, the coefficient of the emp_firm is 0.2149 for the log regression, and only 0.0002 for the non-log regression, which further supports\\nthe idea that the relationship is non-linear, and that the log(firm size) is a better way to see the relationship between both variables.\\n\\n'"
      ]
     },
     "execution_count": 19,
     "metadata": {},
     "output_type": "execute_result"
    }
   ],
   "source": [
    "\"\"\"\n",
    "\n",
    "The R^2 result of the non-log regression was 0.152\n",
    "The R^2 result of the log regression was 0.225\n",
    "\n",
    "Since a higher R^2 result implies a more successful regression model, we can see that the log regression was supposedly better, since more of the variability is accounted for with it.\n",
    "As it explains more variance in management score than the non-log model, it also implies that the relationship between firm size and management score is non-linear,\n",
    "which aligns with the earlier correlation results.\n",
    "\n",
    "If we were to look at other variables of the regression, the coefficient of the emp_firm is 0.2149 for the log regression, and only 0.0002 for the non-log regression, which further supports\n",
    "the idea that the relationship is non-linear, and that the log(firm size) is a better way to see the relationship between both variables.\n",
    "\n",
    "\"\"\""
   ]
  },
  {
   "cell_type": "markdown",
   "metadata": {},
   "source": [
    "14. Repeat the analysis of part C with your favourite country in the most recent year at your disposal. Please make sure you have at least 100 data entries. Are your results consistent with France in 2014? It is ok to expand on this part as much as you want."
   ]
  },
  {
   "cell_type": "code",
   "execution_count": 20,
   "metadata": {},
   "outputs": [
    {
     "data": {
      "text/plain": [
       "2015"
      ]
     },
     "execution_count": 20,
     "metadata": {},
     "output_type": "execute_result"
    }
   ],
   "source": [
    "#we start finding the most recent year at our disposal:\n",
    "df[\"wave\"].max()"
   ]
  },
  {
   "cell_type": "code",
   "execution_count": 21,
   "metadata": {},
   "outputs": [
    {
     "data": {
      "text/plain": [
       "array(['China'], dtype=object)"
      ]
     },
     "execution_count": 21,
     "metadata": {},
     "output_type": "execute_result"
    }
   ],
   "source": [
    "#the year is 2015, so now we check the countries in that year\n",
    "df.loc[lambda x: (x[\"wave\"] == 2015)].country.unique()"
   ]
  },
  {
   "cell_type": "code",
   "execution_count": 22,
   "metadata": {},
   "outputs": [
    {
     "data": {
      "text/html": [
       "<div>\n",
       "<style scoped>\n",
       "    .dataframe tbody tr th:only-of-type {\n",
       "        vertical-align: middle;\n",
       "    }\n",
       "\n",
       "    .dataframe tbody tr th {\n",
       "        vertical-align: top;\n",
       "    }\n",
       "\n",
       "    .dataframe thead th {\n",
       "        text-align: right;\n",
       "    }\n",
       "</style>\n",
       "<table border=\"1\" class=\"dataframe\">\n",
       "  <thead>\n",
       "    <tr style=\"text-align: right;\">\n",
       "      <th></th>\n",
       "      <th>firmid</th>\n",
       "      <th>wave</th>\n",
       "      <th>sic</th>\n",
       "      <th>management</th>\n",
       "      <th>operations</th>\n",
       "      <th>monitor</th>\n",
       "      <th>target</th>\n",
       "      <th>people</th>\n",
       "      <th>lean1</th>\n",
       "      <th>lean2</th>\n",
       "      <th>...</th>\n",
       "      <th>aa_196</th>\n",
       "      <th>aa_197</th>\n",
       "      <th>aa_198</th>\n",
       "      <th>aa_199</th>\n",
       "      <th>aa_200</th>\n",
       "      <th>aa_201</th>\n",
       "      <th>aa_202</th>\n",
       "      <th>aa_203</th>\n",
       "      <th>aa_204</th>\n",
       "      <th>aa_205</th>\n",
       "    </tr>\n",
       "  </thead>\n",
       "  <tbody>\n",
       "    <tr>\n",
       "      <th>count</th>\n",
       "      <td>309.000000</td>\n",
       "      <td>309.0</td>\n",
       "      <td>0.0</td>\n",
       "      <td>309.000000</td>\n",
       "      <td>309.000000</td>\n",
       "      <td>309.000000</td>\n",
       "      <td>309.000000</td>\n",
       "      <td>309.000000</td>\n",
       "      <td>309.000000</td>\n",
       "      <td>309.000000</td>\n",
       "      <td>...</td>\n",
       "      <td>309.0</td>\n",
       "      <td>309.000000</td>\n",
       "      <td>309.0</td>\n",
       "      <td>309.0</td>\n",
       "      <td>309.0</td>\n",
       "      <td>309.000000</td>\n",
       "      <td>309.000000</td>\n",
       "      <td>309.0</td>\n",
       "      <td>309.0</td>\n",
       "      <td>309.0</td>\n",
       "    </tr>\n",
       "    <tr>\n",
       "      <th>mean</th>\n",
       "      <td>3629.902913</td>\n",
       "      <td>2015.0</td>\n",
       "      <td>NaN</td>\n",
       "      <td>2.571546</td>\n",
       "      <td>2.653722</td>\n",
       "      <td>2.546926</td>\n",
       "      <td>2.489320</td>\n",
       "      <td>2.633118</td>\n",
       "      <td>2.721683</td>\n",
       "      <td>2.585761</td>\n",
       "      <td>...</td>\n",
       "      <td>0.0</td>\n",
       "      <td>0.187702</td>\n",
       "      <td>0.0</td>\n",
       "      <td>0.0</td>\n",
       "      <td>0.0</td>\n",
       "      <td>0.194175</td>\n",
       "      <td>0.171521</td>\n",
       "      <td>0.0</td>\n",
       "      <td>0.0</td>\n",
       "      <td>0.0</td>\n",
       "    </tr>\n",
       "    <tr>\n",
       "      <th>std</th>\n",
       "      <td>98.513350</td>\n",
       "      <td>0.0</td>\n",
       "      <td>NaN</td>\n",
       "      <td>0.804749</td>\n",
       "      <td>1.028724</td>\n",
       "      <td>0.990228</td>\n",
       "      <td>0.859505</td>\n",
       "      <td>0.749646</td>\n",
       "      <td>1.102042</td>\n",
       "      <td>1.058327</td>\n",
       "      <td>...</td>\n",
       "      <td>0.0</td>\n",
       "      <td>0.391108</td>\n",
       "      <td>0.0</td>\n",
       "      <td>0.0</td>\n",
       "      <td>0.0</td>\n",
       "      <td>0.396206</td>\n",
       "      <td>0.377575</td>\n",
       "      <td>0.0</td>\n",
       "      <td>0.0</td>\n",
       "      <td>0.0</td>\n",
       "    </tr>\n",
       "    <tr>\n",
       "      <th>min</th>\n",
       "      <td>3014.000000</td>\n",
       "      <td>2015.0</td>\n",
       "      <td>NaN</td>\n",
       "      <td>1.111111</td>\n",
       "      <td>1.000000</td>\n",
       "      <td>1.000000</td>\n",
       "      <td>1.000000</td>\n",
       "      <td>1.166667</td>\n",
       "      <td>1.000000</td>\n",
       "      <td>1.000000</td>\n",
       "      <td>...</td>\n",
       "      <td>0.0</td>\n",
       "      <td>0.000000</td>\n",
       "      <td>0.0</td>\n",
       "      <td>0.0</td>\n",
       "      <td>0.0</td>\n",
       "      <td>0.000000</td>\n",
       "      <td>0.000000</td>\n",
       "      <td>0.0</td>\n",
       "      <td>0.0</td>\n",
       "      <td>0.0</td>\n",
       "    </tr>\n",
       "    <tr>\n",
       "      <th>25%</th>\n",
       "      <td>3556.000000</td>\n",
       "      <td>2015.0</td>\n",
       "      <td>NaN</td>\n",
       "      <td>1.888889</td>\n",
       "      <td>2.000000</td>\n",
       "      <td>1.400000</td>\n",
       "      <td>1.800000</td>\n",
       "      <td>2.000000</td>\n",
       "      <td>2.000000</td>\n",
       "      <td>2.000000</td>\n",
       "      <td>...</td>\n",
       "      <td>0.0</td>\n",
       "      <td>0.000000</td>\n",
       "      <td>0.0</td>\n",
       "      <td>0.0</td>\n",
       "      <td>0.0</td>\n",
       "      <td>0.000000</td>\n",
       "      <td>0.000000</td>\n",
       "      <td>0.0</td>\n",
       "      <td>0.0</td>\n",
       "      <td>0.0</td>\n",
       "    </tr>\n",
       "    <tr>\n",
       "      <th>50%</th>\n",
       "      <td>3633.000000</td>\n",
       "      <td>2015.0</td>\n",
       "      <td>NaN</td>\n",
       "      <td>2.666667</td>\n",
       "      <td>2.500000</td>\n",
       "      <td>2.800000</td>\n",
       "      <td>2.600000</td>\n",
       "      <td>2.666667</td>\n",
       "      <td>3.000000</td>\n",
       "      <td>3.000000</td>\n",
       "      <td>...</td>\n",
       "      <td>0.0</td>\n",
       "      <td>0.000000</td>\n",
       "      <td>0.0</td>\n",
       "      <td>0.0</td>\n",
       "      <td>0.0</td>\n",
       "      <td>0.000000</td>\n",
       "      <td>0.000000</td>\n",
       "      <td>0.0</td>\n",
       "      <td>0.0</td>\n",
       "      <td>0.0</td>\n",
       "    </tr>\n",
       "    <tr>\n",
       "      <th>75%</th>\n",
       "      <td>3710.000000</td>\n",
       "      <td>2015.0</td>\n",
       "      <td>NaN</td>\n",
       "      <td>3.222222</td>\n",
       "      <td>3.500000</td>\n",
       "      <td>3.400000</td>\n",
       "      <td>3.200000</td>\n",
       "      <td>3.166667</td>\n",
       "      <td>4.000000</td>\n",
       "      <td>3.000000</td>\n",
       "      <td>...</td>\n",
       "      <td>0.0</td>\n",
       "      <td>0.000000</td>\n",
       "      <td>0.0</td>\n",
       "      <td>0.0</td>\n",
       "      <td>0.0</td>\n",
       "      <td>0.000000</td>\n",
       "      <td>0.000000</td>\n",
       "      <td>0.0</td>\n",
       "      <td>0.0</td>\n",
       "      <td>0.0</td>\n",
       "    </tr>\n",
       "    <tr>\n",
       "      <th>max</th>\n",
       "      <td>3800.000000</td>\n",
       "      <td>2015.0</td>\n",
       "      <td>NaN</td>\n",
       "      <td>4.777778</td>\n",
       "      <td>5.000000</td>\n",
       "      <td>4.400000</td>\n",
       "      <td>5.000000</td>\n",
       "      <td>5.000000</td>\n",
       "      <td>5.000000</td>\n",
       "      <td>5.000000</td>\n",
       "      <td>...</td>\n",
       "      <td>0.0</td>\n",
       "      <td>1.000000</td>\n",
       "      <td>0.0</td>\n",
       "      <td>0.0</td>\n",
       "      <td>0.0</td>\n",
       "      <td>1.000000</td>\n",
       "      <td>1.000000</td>\n",
       "      <td>0.0</td>\n",
       "      <td>0.0</td>\n",
       "      <td>0.0</td>\n",
       "    </tr>\n",
       "  </tbody>\n",
       "</table>\n",
       "<p>8 rows × 240 columns</p>\n",
       "</div>"
      ],
      "text/plain": [
       "            firmid    wave  sic  management  operations     monitor  \\\n",
       "count   309.000000   309.0  0.0  309.000000  309.000000  309.000000   \n",
       "mean   3629.902913  2015.0  NaN    2.571546    2.653722    2.546926   \n",
       "std      98.513350     0.0  NaN    0.804749    1.028724    0.990228   \n",
       "min    3014.000000  2015.0  NaN    1.111111    1.000000    1.000000   \n",
       "25%    3556.000000  2015.0  NaN    1.888889    2.000000    1.400000   \n",
       "50%    3633.000000  2015.0  NaN    2.666667    2.500000    2.800000   \n",
       "75%    3710.000000  2015.0  NaN    3.222222    3.500000    3.400000   \n",
       "max    3800.000000  2015.0  NaN    4.777778    5.000000    4.400000   \n",
       "\n",
       "           target      people       lean1       lean2  ...  aa_196  \\\n",
       "count  309.000000  309.000000  309.000000  309.000000  ...   309.0   \n",
       "mean     2.489320    2.633118    2.721683    2.585761  ...     0.0   \n",
       "std      0.859505    0.749646    1.102042    1.058327  ...     0.0   \n",
       "min      1.000000    1.166667    1.000000    1.000000  ...     0.0   \n",
       "25%      1.800000    2.000000    2.000000    2.000000  ...     0.0   \n",
       "50%      2.600000    2.666667    3.000000    3.000000  ...     0.0   \n",
       "75%      3.200000    3.166667    4.000000    3.000000  ...     0.0   \n",
       "max      5.000000    5.000000    5.000000    5.000000  ...     0.0   \n",
       "\n",
       "           aa_197  aa_198  aa_199  aa_200      aa_201      aa_202  aa_203  \\\n",
       "count  309.000000   309.0   309.0   309.0  309.000000  309.000000   309.0   \n",
       "mean     0.187702     0.0     0.0     0.0    0.194175    0.171521     0.0   \n",
       "std      0.391108     0.0     0.0     0.0    0.396206    0.377575     0.0   \n",
       "min      0.000000     0.0     0.0     0.0    0.000000    0.000000     0.0   \n",
       "25%      0.000000     0.0     0.0     0.0    0.000000    0.000000     0.0   \n",
       "50%      0.000000     0.0     0.0     0.0    0.000000    0.000000     0.0   \n",
       "75%      0.000000     0.0     0.0     0.0    0.000000    0.000000     0.0   \n",
       "max      1.000000     0.0     0.0     0.0    1.000000    1.000000     0.0   \n",
       "\n",
       "       aa_204  aa_205  \n",
       "count   309.0   309.0  \n",
       "mean      0.0     0.0  \n",
       "std       0.0     0.0  \n",
       "min       0.0     0.0  \n",
       "25%       0.0     0.0  \n",
       "50%       0.0     0.0  \n",
       "75%       0.0     0.0  \n",
       "max       0.0     0.0  \n",
       "\n",
       "[8 rows x 240 columns]"
      ]
     },
     "execution_count": 22,
     "metadata": {},
     "output_type": "execute_result"
    }
   ],
   "source": [
    "#we create df2, which is the 2015 df. Since China, is the only country, we select it\n",
    "\n",
    "df2 = df.loc[\n",
    "    lambda x: (x[\"country\"] == \"China\")\n",
    "    & (x[\"wave\"] == 2015)\n",
    "]\n",
    "\n",
    "df2.describe()"
   ]
  },
  {
   "cell_type": "code",
   "execution_count": 23,
   "metadata": {},
   "outputs": [
    {
     "name": "stdout",
     "output_type": "stream",
     "text": [
      "309\n"
     ]
    }
   ],
   "source": [
    "#we make sure that we have at least 100 data entries\n",
    "print(len(df2))"
   ]
  },
  {
   "cell_type": "code",
   "execution_count": 24,
   "metadata": {},
   "outputs": [],
   "source": [
    "#now we set up the variables to perform the same analysis as in part C\n",
    "x2 = df2['emp_firm']\n",
    "y2 = df2['management']\n",
    "x2_log = np.log(df2['emp_firm'])"
   ]
  },
  {
   "cell_type": "code",
   "execution_count": 25,
   "metadata": {},
   "outputs": [
    {
     "name": "stdout",
     "output_type": "stream",
     "text": [
      "                            OLS Regression Results                            \n",
      "==============================================================================\n",
      "Dep. Variable:             management   R-squared:                       0.076\n",
      "Model:                            OLS   Adj. R-squared:                  0.073\n",
      "Method:                 Least Squares   F-statistic:                     25.23\n",
      "Date:                Tue, 25 Feb 2025   Prob (F-statistic):           8.65e-07\n",
      "Time:                        12:11:05   Log-Likelihood:                -358.63\n",
      "No. Observations:                 309   AIC:                             721.3\n",
      "Df Residuals:                     307   BIC:                             728.7\n",
      "Df Model:                           1                                         \n",
      "Covariance Type:            nonrobust                                         \n",
      "==============================================================================\n",
      "                 coef    std err          t      P>|t|      [0.025      0.975]\n",
      "------------------------------------------------------------------------------\n",
      "const          2.4769      0.048     51.673      0.000       2.383       2.571\n",
      "emp_firm       0.0002   3.02e-05      5.023      0.000    9.23e-05       0.000\n",
      "==============================================================================\n",
      "Omnibus:                       22.385   Durbin-Watson:                   2.020\n",
      "Prob(Omnibus):                  0.000   Jarque-Bera (JB):                8.607\n",
      "Skew:                          -0.105   Prob(JB):                       0.0135\n",
      "Kurtosis:                       2.210   Cond. No.                     1.73e+03\n",
      "==============================================================================\n",
      "\n",
      "Notes:\n",
      "[1] Standard Errors assume that the covariance matrix of the errors is correctly specified.\n",
      "[2] The condition number is large, 1.73e+03. This might indicate that there are\n",
      "strong multicollinearity or other numerical problems.\n"
     ]
    }
   ],
   "source": [
    "#non-log OLS regression\n",
    "X2 = sm.add_constant(x2)\n",
    "model2 = sm.OLS(y2, X2).fit()\n",
    "print(model2.summary())"
   ]
  },
  {
   "cell_type": "code",
   "execution_count": 26,
   "metadata": {},
   "outputs": [
    {
     "name": "stdout",
     "output_type": "stream",
     "text": [
      "                            OLS Regression Results                            \n",
      "==============================================================================\n",
      "Dep. Variable:             management   R-squared:                       0.376\n",
      "Model:                            OLS   Adj. R-squared:                  0.374\n",
      "Method:                 Least Squares   F-statistic:                     185.3\n",
      "Date:                Tue, 25 Feb 2025   Prob (F-statistic):           2.46e-33\n",
      "Time:                        12:11:05   Log-Likelihood:                -297.88\n",
      "No. Observations:                 309   AIC:                             599.8\n",
      "Df Residuals:                     307   BIC:                             607.2\n",
      "Df Model:                           1                                         \n",
      "Covariance Type:            nonrobust                                         \n",
      "==============================================================================\n",
      "                 coef    std err          t      P>|t|      [0.025      0.975]\n",
      "------------------------------------------------------------------------------\n",
      "const          0.3473      0.167      2.075      0.039       0.018       0.677\n",
      "emp_firm       0.4042      0.030     13.611      0.000       0.346       0.463\n",
      "==============================================================================\n",
      "Omnibus:                        0.707   Durbin-Watson:                   2.100\n",
      "Prob(Omnibus):                  0.702   Jarque-Bera (JB):                0.759\n",
      "Skew:                           0.113   Prob(JB):                        0.684\n",
      "Kurtosis:                       2.913   Cond. No.                         26.8\n",
      "==============================================================================\n",
      "\n",
      "Notes:\n",
      "[1] Standard Errors assume that the covariance matrix of the errors is correctly specified.\n"
     ]
    }
   ],
   "source": [
    "#and here is the log OLS regression\n",
    "X2_log = sm.add_constant(x2_log)\n",
    "model_log2 = sm.OLS(y2, X2_log).fit()\n",
    "print(model_log2.summary())"
   ]
  },
  {
   "cell_type": "code",
   "execution_count": null,
   "metadata": {},
   "outputs": [],
   "source": [
    "#and now we compare the R^2 of the two regressions, just like in part C\n",
    "\n",
    "\"\"\"\n",
    "\n",
    "The R^2 result of the non-log regression was 0.076\n",
    "The R^2 result of the log regression was 0.376\n",
    "\n",
    "Since a higher R^2 result implies a more successful regression model, we can see that the log regression was supposedly much better, since more of the variability is accounted for with it.\n",
    "As it explains more variance in management score than the non-log model, it also implies that the relationship between firm size and management score is non-linear,\n",
    "which aligns with our earlier correlation and OLS regression results from part C.\n",
    "\n",
    "If we were to look at other variables of the regression, the coefficient of the emp_firm is 0.4042 for the log regression, and only 0.0002 for the non-log regression, which further supports\n",
    "the idea that the relationship is non-linear, and that the log(firm size) is a better way to see the relationship between both variables.\n",
    "\n",
    "As such, our results for China in 2015 are consisten with our results from France in 2014, and they support the theory that there is a non-linear relationship between firm size and management\n",
    "score.\n",
    "\n",
    "\"\"\""
   ]
  }
 ],
 "metadata": {
  "kernelspec": {
   "display_name": "Python 3",
   "language": "python",
   "name": "python3"
  },
  "language_info": {
   "codemirror_mode": {
    "name": "ipython",
    "version": 3
   },
   "file_extension": ".py",
   "mimetype": "text/x-python",
   "name": "python",
   "nbconvert_exporter": "python",
   "pygments_lexer": "ipython3",
   "version": "3.11.9"
  }
 },
 "nbformat": 4,
 "nbformat_minor": 4
}
